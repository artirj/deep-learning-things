{
 "cells": [
  {
   "cell_type": "markdown",
   "metadata": {
    "deletable": true,
    "editable": true
   },
   "source": [
    "# Submission for Cats vs Dogs redux, improved"
   ]
  },
  {
   "cell_type": "markdown",
   "metadata": {
    "deletable": true,
    "editable": true
   },
   "source": [
    "This code does the following:\n",
    "\n",
    "1. Load a pre-trained VGG16 model\n",
    "2. Finetune the model so that it detects only two classes: cats and dogs, using the information from the competition\n",
    "3. Predict the data in the /test folder\n",
    "4. Output and submit to kaggle\n",
    "\n",
    "One minor thing that I do is modify the VGG script so that there is an option for autogenerating the validation sample without having to do it manually, while at the same time keeping the code compatible with the other notebooks I have"
   ]
  },
  {
   "cell_type": "markdown",
   "metadata": {
    "deletable": true,
    "editable": true
   },
   "source": [
    "## Task 1: Divide the dataset in cats/dogs and create a samples folder"
   ]
  },
  {
   "cell_type": "code",
   "execution_count": 86,
   "metadata": {
    "collapsed": false,
    "deletable": true,
    "editable": true
   },
   "outputs": [],
   "source": [
    "import os\n",
    "import shutil\n",
    "import sklearn\n",
    "path=\"kaggle_dogs/\"\n",
    "path=os.path.realpath('')+'/'+path\n",
    "# cats/dogs\n",
    "pre_run=0\n",
    "samplesize=50\n",
    "prop_train=0.75\n",
    "ncats=0\n",
    "ndogs=0\n",
    "if(pre_run==1):\n",
    "    shutil.rmtree(path+'train',ignore_errors=True)\n",
    "    shutil.rmtree(path+'sample',ignore_errors=True)\n",
    "    shutil.rmtree(path+'valid',ignore_errors=True)\n",
    "    os.makedirs(path+'train/dogs',exist_ok=True)\n",
    "    os.makedirs(path+'train/cats',exist_ok=True)\n",
    "    os.makedirs(path+'valid/dogs',exist_ok=True)\n",
    "    os.makedirs(path+'valid/cats',exist_ok=True)\n",
    "    os.makedirs(path+'sample/train/cats',exist_ok=True)\n",
    "    os.makedirs(path+'sample/train/dogs',exist_ok=True)\n",
    "    os.makedirs(path+'sample/valid/cats',exist_ok=True)\n",
    "    os.makedirs(path+'sample/valid/dogs',exist_ok=True)\n",
    "    os.makedirs(path+'sample/pretest/test',exist_ok=True)\n",
    "    from sklearn.model_selection import train_test_split\n",
    "    train,valid=train_test_split(os.listdir(path+'train_orig/'),train_size=prop_train,random_state=42)\n",
    "    print('We got here')     \n",
    "    for file in train:\n",
    "            filepath=path+'train_orig'+'/'+file\n",
    "            if(file.startswith('dog.')):\n",
    "                shutil.copy(filepath,path+'train/dogs')\n",
    "                if(ndogs<=samplesize*prop_train):\n",
    "                    shutil.copy(filepath,path+'sample/train/dogs')\n",
    "                    ndogs+=1\n",
    "            elif(file.startswith('cat.')):\n",
    "                shutil.copy(filepath,path+'train/cats')\n",
    "                if(ncats<=samplesize*prop_train):\n",
    "                    shutil.copy(filepath,path+'sample/train/cats')\n",
    "                    ncats+=1\n",
    "    ndogs=0\n",
    "    ncats=0\n",
    "    print('We got here')\n",
    "    for file in valid:\n",
    "            filepath=path+'train_orig'+'/'+file        \n",
    "            if(file.startswith('dog.')):\n",
    "                shutil.copy(filepath,path+'valid/dogs')\n",
    "                if(ndogs<=samplesize*(1-prop_train)):\n",
    "                    shutil.copy(filepath,path+'sample/valid/dogs')\n",
    "                    ndogs+=1\n",
    "            elif(file.startswith('cat.')):\n",
    "                shutil.copy(filepath,path+'valid/cats')\n",
    "                if(ncats<=samplesize*(1-prop_train)):\n",
    "                    shutil.copy(filepath,path+'sample/valid/cats')\n",
    "                    ncats+=1\n",
    "    ntest=0     \n",
    "    test_files=os.listdir(path+'test')\n",
    "    print('We got here')\n",
    "    for file in test_files:\n",
    "        filepath=path+'test'+'/'+file\n",
    "        shutil.copy(filepath,path+'sample/pretest/test')\n",
    "        ntest+=1\n",
    "        if(ntest>=20):\n",
    "            break\n",
    "    shutil.copytree(path+'test/',path+'pretest/test')\n",
    "    shutil.rmtree(path+'test/',ignore_errors=True)\n",
    "        "
   ]
  },
  {
   "cell_type": "markdown",
   "metadata": {
    "collapsed": false,
    "deletable": true,
    "editable": true
   },
   "source": [
    "## Task 2:Use the VGG16 model"
   ]
  },
  {
   "cell_type": "code",
   "execution_count": 87,
   "metadata": {
    "collapsed": false,
    "deletable": true,
    "editable": true
   },
   "outputs": [
    {
     "name": "stdout",
     "output_type": "stream",
     "text": [
      "Found 76 images belonging to 2 classes.\n",
      "Found 26 images belonging to 2 classes.\n"
     ]
    }
   ],
   "source": [
    "import vgg16bn\n",
    "from vgg16bn import Vgg16BN\n",
    "#This utils is from the fast.ai course\n",
    "import utils\n",
    "import numpy as np\n",
    "np.set_printoptions(precision=4, linewidth=100)\n",
    "from utils import plots\n",
    "%matplotlib inline\n",
    "vgg=Vgg16BN()\n",
    "path='kaggle_dogs/'\n",
    "# 64 for good GPUs, 32 for bad ones\n",
    "batch_size=64\n",
    "#training batches\n",
    "batches=vgg.get_batches(batch_size=batch_size,path=path+'train',shuffle=False)\n",
    "val_batches=vgg.get_batches(batch_size=batch_size*2,path=path+'valid',shuffle=True)"
   ]
  },
  {
   "cell_type": "code",
   "execution_count": 88,
   "metadata": {
    "collapsed": false,
    "deletable": true,
    "editable": true
   },
   "outputs": [],
   "source": [
    "# batches = vgg.get_batches(path+'train', batch_size=4)\n",
    "# imgs,labels = next(batches)\n",
    "# #Here 01 means dog, 10 means cat\n",
    "# plots(imgs, titles=labels)"
   ]
  },
  {
   "cell_type": "code",
   "execution_count": 89,
   "metadata": {
    "collapsed": false,
    "deletable": true,
    "editable": true
   },
   "outputs": [],
   "source": [
    "#We first get predictions with the default model\n",
    "#vgg.predict(imgs, True)"
   ]
  },
  {
   "cell_type": "markdown",
   "metadata": {
    "deletable": true,
    "editable": true
   },
   "source": [
    "Now I finetune the model so that it only discriminates between cats and dogs"
   ]
  },
  {
   "cell_type": "code",
   "execution_count": 90,
   "metadata": {
    "collapsed": false,
    "deletable": true,
    "editable": true,
    "scrolled": true
   },
   "outputs": [
    {
     "name": "stdout",
     "output_type": "stream",
     "text": [
      "Epoch 1/10\n",
      "76/76 [==============================] - 5s - loss: 3.3386 - acc: 0.4079 - val_loss: 1.1193 - val_acc: 0.6923\b\b\b\b\b\b\b\b\b\b\b\b\b\b\b\b\b\b\b\b\b\b\b\b\b\b\b\b\b\b\b\b\b\b\b\b\b\b\b\b\b\b\b\b\b\b\b\b\b\b\b\b\b\b\b\b\b\b\b\b\b\b\b\b\b\b\b\b\b\b\b\b\b\b\b\b\b\b\b\b\b\b\b\b\b\b\b\b\b\b\b\b\b\b\b\b\b\b\b\b\b\b\b\b\b\b\b\b\b\b\b\b\b\b\b\b\b\b\b\b\b\b\n",
      "Epoch 2/10\n",
      "76/76 [==============================] - 5s - loss: 0.4053 - acc: 0.8289 - val_loss: 0.3653 - val_acc: 0.8846\b\b\b\b\b\b\b\b\b\b\b\b\b\b\b\b\b\b\b\b\b\b\b\b\b\b\b\b\b\b\b\b\b\b\b\b\b\b\b\b\b\b\b\b\b\b\b\b\b\b\b\b\b\b\b\b\b\b\b\b\b\b\b\b\b\b\b\b\b\b\b\b\b\b\b\b\b\b\b\b\b\b\b\b\b\b\b\b\b\b\b\b\b\b\b\b\b\b\b\b\b\b\b\b\b\b\b\b\b\b\b\b\b\b\b\b\b\b\b\b\b\b\n",
      "Epoch 3/10\n",
      "76/76 [==============================] - 5s - loss: 0.7245 - acc: 0.7368 - val_loss: 0.3407 - val_acc: 0.8462\b\b\b\b\b\b\b\b\b\b\b\b\b\b\b\b\b\b\b\b\b\b\b\b\b\b\b\b\b\b\b\b\b\b\b\b\b\b\b\b\b\b\b\b\b\b\b\b\b\b\b\b\b\b\b\b\b\b\b\b\b\b\b\b\b\b\b\b\b\b\b\b\b\b\b\b\b\b\b\b\b\b\b\b\b\b\b\b\b\b\b\b\b\b\b\b\b\b\b\b\b\b\b\b\b\b\b\b\b\b\b\b\b\b\b\b\b\b\b\b\b\b\n",
      "Epoch 4/10\n",
      "76/76 [==============================] - 5s - loss: 0.5450 - acc: 0.8421 - val_loss: 0.2469 - val_acc: 0.8846\b\b\b\b\b\b\b\b\b\b\b\b\b\b\b\b\b\b\b\b\b\b\b\b\b\b\b\b\b\b\b\b\b\b\b\b\b\b\b\b\b\b\b\b\b\b\b\b\b\b\b\b\b\b\b\b\b\b\b\b\b\b\b\b\b\b\b\b\b\b\b\b\b\b\b\b\b\b\b\b\b\b\b\b\b\b\b\b\b\b\b\b\b\b\b\b\b\b\b\b\b\b\b\b\b\b\b\b\b\b\b\b\b\b\b\b\b\b\b\b\b\b\n",
      "Epoch 5/10\n",
      "76/76 [==============================] - 5s - loss: 0.1458 - acc: 0.9474 - val_loss: 0.2004 - val_acc: 0.8846\b\b\b\b\b\b\b\b\b\b\b\b\b\b\b\b\b\b\b\b\b\b\b\b\b\b\b\b\b\b\b\b\b\b\b\b\b\b\b\b\b\b\b\b\b\b\b\b\b\b\b\b\b\b\b\b\b\b\b\b\b\b\b\b\b\b\b\b\b\b\b\b\b\b\b\b\b\b\b\b\b\b\b\b\b\b\b\b\b\b\b\b\b\b\b\b\b\b\b\b\b\b\b\b\b\b\b\b\b\b\b\b\b\b\b\b\b\b\b\b\b\b\n",
      "Epoch 6/10\n",
      "76/76 [==============================] - 5s - loss: 0.1109 - acc: 0.9737 - val_loss: 0.2053 - val_acc: 0.9615\b\b\b\b\b\b\b\b\b\b\b\b\b\b\b\b\b\b\b\b\b\b\b\b\b\b\b\b\b\b\b\b\b\b\b\b\b\b\b\b\b\b\b\b\b\b\b\b\b\b\b\b\b\b\b\b\b\b\b\b\b\b\b\b\b\b\b\b\b\b\b\b\b\b\b\b\b\b\b\b\b\b\b\b\b\b\b\b\b\b\b\b\b\b\b\b\b\b\b\b\b\b\b\b\b\b\b\b\b\b\b\b\b\b\b\b\b\b\b\b\b\b\n",
      "Epoch 7/10\n",
      "76/76 [==============================] - 5s - loss: 0.1750 - acc: 0.9474 - val_loss: 0.2571 - val_acc: 0.9615\b\b\b\b\b\b\b\b\b\b\b\b\b\b\b\b\b\b\b\b\b\b\b\b\b\b\b\b\b\b\b\b\b\b\b\b\b\b\b\b\b\b\b\b\b\b\b\b\b\b\b\b\b\b\b\b\b\b\b\b\b\b\b\b\b\b\b\b\b\b\b\b\b\b\b\b\b\b\b\b\b\b\b\b\b\b\b\b\b\b\b\b\b\b\b\b\b\b\b\b\b\b\b\b\b\b\b\b\b\b\b\b\b\b\b\b\b\b\b\b\b\b\n",
      "Epoch 8/10\n",
      "76/76 [==============================] - 5s - loss: 0.0107 - acc: 1.0000 - val_loss: 0.3118 - val_acc: 0.9615\b\b\b\b\b\b\b\b\b\b\b\b\b\b\b\b\b\b\b\b\b\b\b\b\b\b\b\b\b\b\b\b\b\b\b\b\b\b\b\b\b\b\b\b\b\b\b\b\b\b\b\b\b\b\b\b\b\b\b\b\b\b\b\b\b\b\b\b\b\b\b\b\b\b\b\b\b\b\b\b\b\b\b\b\b\b\b\b\b\b\b\b\b\b\b\b\b\b\b\b\b\b\b\b\b\b\b\b\b\b\b\b\b\b\b\b\b\b\b\b\b\b\n"
     ]
    },
    {
     "ename": "NameError",
     "evalue": "name 'model' is not defined",
     "output_type": "error",
     "traceback": [
      "\u001b[0;31m---------------------------------------------------------------------------\u001b[0m",
      "\u001b[0;31mNameError\u001b[0m                                 Traceback (most recent call last)",
      "\u001b[0;32m<ipython-input-90-226b70806430>\u001b[0m in \u001b[0;36m<module>\u001b[0;34m()\u001b[0m\n\u001b[1;32m      2\u001b[0m \u001b[0mnb_epoch\u001b[0m \u001b[0;34m=\u001b[0m \u001b[0;36m10\u001b[0m\u001b[0;34m\u001b[0m\u001b[0m\n\u001b[1;32m      3\u001b[0m \u001b[0mhistory\u001b[0m\u001b[0;34m=\u001b[0m\u001b[0mvgg\u001b[0m\u001b[0;34m.\u001b[0m\u001b[0mfit\u001b[0m\u001b[0;34m(\u001b[0m\u001b[0mbatches\u001b[0m\u001b[0;34m,\u001b[0m \u001b[0mval_batches\u001b[0m\u001b[0;34m,\u001b[0m \u001b[0mnb_epoch\u001b[0m\u001b[0;34m=\u001b[0m\u001b[0mnb_epoch\u001b[0m\u001b[0;34m)\u001b[0m\u001b[0;34m\u001b[0m\u001b[0m\n\u001b[0;32m----> 4\u001b[0;31m \u001b[0mmodel\u001b[0m\u001b[0;34m.\u001b[0m\u001b[0msave_weights\u001b[0m\u001b[0;34m(\u001b[0m\u001b[0mmodel_path\u001b[0m\u001b[0;34m+\u001b[0m\u001b[0;34m'finetune1.h5'\u001b[0m\u001b[0;34m)\u001b[0m\u001b[0;34m\u001b[0m\u001b[0m\n\u001b[0m\u001b[1;32m      5\u001b[0m \u001b[0mmodel\u001b[0m\u001b[0;34m.\u001b[0m\u001b[0mload_weights\u001b[0m\u001b[0;34m(\u001b[0m\u001b[0mmodel_path\u001b[0m\u001b[0;34m+\u001b[0m\u001b[0;34m'finetune1.h5'\u001b[0m\u001b[0;34m)\u001b[0m\u001b[0;34m\u001b[0m\u001b[0m\n",
      "\u001b[0;31mNameError\u001b[0m: name 'model' is not defined"
     ]
    }
   ],
   "source": [
    "vgg.finetune(batches)\n",
    "nb_epoch = 10\n",
    "history=vgg.fit(batches, val_batches, nb_epoch=nb_epoch)\n",
    "vgg.model.save_weights(model_path+'finetune1.h5')\n",
    "vgg.model.load_weights(model_path+'finetune1.h5')"
   ]
  },
  {
   "cell_type": "code",
   "execution_count": 91,
   "metadata": {
    "collapsed": false,
    "deletable": true,
    "editable": true
   },
   "outputs": [
    {
     "name": "stdout",
     "output_type": "stream",
     "text": [
      "Epoch 1/10\n",
      "76/76 [==============================] - 5s - loss: 5.9274 - acc: 0.3947 - val_loss: 1.8598 - val_acc: 0.8846\b\b\b\b\b\b\b\b\b\b\b\b\b\b\b\b\b\b\b\b\b\b\b\b\b\b\b\b\b\b\b\b\b\b\b\b\b\b\b\b\b\b\b\b\b\b\b\b\b\b\b\b\b\b\b\b\b\b\b\b\b\b\b\b\b\b\b\b\b\b\b\b\b\b\b\b\b\b\b\b\b\b\b\b\b\b\b\b\b\b\b\b\b\b\b\b\b\b\b\b\b\b\b\b\b\b\b\b\b\b\b\b\b\b\b\b\b\b\b\b\b\b\n",
      "Epoch 2/10\n",
      "76/76 [==============================] - 5s - loss: 1.0407 - acc: 0.9211 - val_loss: 0.4122 - val_acc: 0.9231\b\b\b\b\b\b\b\b\b\b\b\b\b\b\b\b\b\b\b\b\b\b\b\b\b\b\b\b\b\b\b\b\b\b\b\b\b\b\b\b\b\b\b\b\b\b\b\b\b\b\b\b\b\b\b\b\b\b\b\b\b\b\b\b\b\b\b\b\b\b\b\b\b\b\b\b\b\b\b\b\b\b\b\b\b\b\b\b\b\b\b\b\b\b\b\b\b\b\b\b\b\b\b\b\b\b\b\b\b\b\b\b\b\b\b\b\b\b\b\b\b\b\b\b\b\b\b\b\b\b\b\b\b\b\n",
      "Epoch 3/10\n",
      "76/76 [==============================] - 5s - loss: 0.1756 - acc: 0.9868 - val_loss: 0.6199 - val_acc: 0.9615\b\b\b\b\b\b\b\b\b\b\b\b\b\b\b\b\b\b\b\b\b\b\b\b\b\b\b\b\b\b\b\b\b\b\b\b\b\b\b\b\b\b\b\b\b\b\b\b\b\b\b\b\b\b\b\b\b\b\b\b\b\b\b\b\b\b\b\b\b\b\b\b\b\b\b\b\b\b\b\b\b\b\b\b\b\b\b\b\b\b\b\b\b\b\b\b\b\b\b\b\b\b\b\b\b\b\b\b\b\b\b\b\b\b\b\b\b\b\b\b\b\b\n",
      "Epoch 4/10\n",
      "76/76 [==============================] - 5s - loss: 0.0078 - acc: 1.0000 - val_loss: 0.6199 - val_acc: 0.9615\b\b\b\b\b\b\b\b\b\b\b\b\b\b\b\b\b\b\b\b\b\b\b\b\b\b\b\b\b\b\b\b\b\b\b\b\b\b\b\b\b\b\b\b\b\b\b\b\b\b\b\b\b\b\b\b\b\b\b\b\b\b\b\b\b\b\b\b\b\b\b\b\b\b\b\b\b\b\b\b\b\b\b\b\b\b\b\b\b\b\b\b\b\b\b\b\b\b\b\b\b\b\b\b\b\b\b\b\b\b\b\b\b\b\b\b\b\b\b\b\b\b\b\b\b\b\b\b\b\b\n",
      "Epoch 5/10\n",
      "76/76 [==============================] - 5s - loss: 0.2121 - acc: 0.9868 - val_loss: 0.6199 - val_acc: 0.9615\b\b\b\b\b\b\b\b\b\b\b\b\b\b\b\b\b\b\b\b\b\b\b\b\b\b\b\b\b\b\b\b\b\b\b\b\b\b\b\b\b\b\b\b\b\b\b\b\b\b\b\b\b\b\b\b\b\b\b\b\b\b\b\b\b\b\b\b\b\b\b\b\b\b\b\b\b\b\b\b\b\b\b\b\b\b\b\b\b\b\b\b\b\b\b\b\b\b\b\b\b\b\b\b\b\b\b\b\b\b\b\b\b\b\b\b\b\b\b\b\b\b\n"
     ]
    },
    {
     "ename": "NameError",
     "evalue": "name 'model' is not defined",
     "output_type": "error",
     "traceback": [
      "\u001b[0;31m---------------------------------------------------------------------------\u001b[0m",
      "\u001b[0;31mNameError\u001b[0m                                 Traceback (most recent call last)",
      "\u001b[0;32m<ipython-input-91-10e0703355b3>\u001b[0m in \u001b[0;36m<module>\u001b[0;34m()\u001b[0m\n\u001b[1;32m      1\u001b[0m \u001b[0mvgg\u001b[0m\u001b[0;34m.\u001b[0m\u001b[0msuperfinetune\u001b[0m\u001b[0;34m(\u001b[0m\u001b[0mbatches\u001b[0m\u001b[0;34m)\u001b[0m\u001b[0;34m\u001b[0m\u001b[0m\n\u001b[1;32m      2\u001b[0m \u001b[0mhistory\u001b[0m\u001b[0;34m=\u001b[0m\u001b[0mvgg\u001b[0m\u001b[0;34m.\u001b[0m\u001b[0mfit\u001b[0m\u001b[0;34m(\u001b[0m\u001b[0mbatches\u001b[0m\u001b[0;34m,\u001b[0m \u001b[0mval_batches\u001b[0m\u001b[0;34m,\u001b[0m \u001b[0mnb_epoch\u001b[0m\u001b[0;34m=\u001b[0m\u001b[0mnb_epoch\u001b[0m\u001b[0;34m)\u001b[0m\u001b[0;34m\u001b[0m\u001b[0m\n\u001b[0;32m----> 3\u001b[0;31m \u001b[0mmodel\u001b[0m\u001b[0;34m.\u001b[0m\u001b[0msave_weights\u001b[0m\u001b[0;34m(\u001b[0m\u001b[0mmodel_path\u001b[0m\u001b[0;34m+\u001b[0m\u001b[0;34m'finetune2.h5'\u001b[0m\u001b[0;34m)\u001b[0m\u001b[0;34m\u001b[0m\u001b[0m\n\u001b[0m",
      "\u001b[0;31mNameError\u001b[0m: name 'model' is not defined"
     ]
    }
   ],
   "source": [
    "vgg.superfinetune(batches)\n",
    "history=vgg.fit(batches, val_batches, nb_epoch=nb_epoch)\n",
    "vgg.model.save_weights(model_path+'finetune2.h5')"
   ]
  },
  {
   "cell_type": "code",
   "execution_count": 92,
   "metadata": {
    "collapsed": false,
    "deletable": true,
    "editable": true
   },
   "outputs": [
    {
     "name": "stdout",
     "output_type": "stream",
     "text": [
      "Found 20 images belonging to 1 classes.\n"
     ]
    }
   ],
   "source": [
    "label,probs=vgg.test(path+'pretest')"
   ]
  },
  {
   "cell_type": "code",
   "execution_count": null,
   "metadata": {
    "collapsed": false,
    "deletable": true,
    "editable": true
   },
   "outputs": [],
   "source": [
    "prob_dogs=probs[:,1]\n",
    "name='sub_alldense.csv'\n",
    "prob_dogs=np.clip(prob_dogs,0.05,0.95)\n",
    "labels=np.array(([int(i[5:].split('.')[0]) for i in label.filenames]))\n",
    "stack=np.column_stack((labels,prob_dogs))\n",
    "np.savetxt(name,stack,fmt=['%d','%.3f'],newline='\\n',delimiter=',',header='id,label',comments='')"
   ]
  },
  {
   "cell_type": "markdown",
   "metadata": {
    "deletable": true,
    "editable": true
   },
   "source": [
    "Now we can predict on the test dataset and submit to kaggle"
   ]
  },
  {
   "cell_type": "markdown",
   "metadata": {
    "deletable": true,
    "editable": true
   },
   "source": [
    "The default scores, after about 6 epochs, gave a public score that ranked me in the  upper 57% of the competition. By clipping the scores I managed to bring it down even more and now I'm in the top 24%. So I've officially finished :)"
   ]
  },
  {
   "cell_type": "code",
   "execution_count": null,
   "metadata": {
    "collapsed": false,
    "deletable": true,
    "editable": true
   },
   "outputs": [],
   "source": [
    "# Submit to kaggle\n",
    "import os\n",
    "\n",
    "os.system('kg submit '+name)"
   ]
  }
 ],
 "metadata": {
  "kernelspec": {
   "display_name": "Python [conda root]",
   "language": "python",
   "name": "conda-root-py"
  },
  "language_info": {
   "codemirror_mode": {
    "name": "ipython",
    "version": 3
   },
   "file_extension": ".py",
   "mimetype": "text/x-python",
   "name": "python",
   "nbconvert_exporter": "python",
   "pygments_lexer": "ipython3",
   "version": "3.5.3"
  }
 },
 "nbformat": 4,
 "nbformat_minor": 2
}
