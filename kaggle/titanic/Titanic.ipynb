{
  "metadata": {
    "kernelspec": {
      "display_name": "Python 3",
      "language": "python",
      "name": "python3"
    },
    "language_info": {
      "codemirror_mode": {
        "name": "ipython",
        "version": 3
      },
      "file_extension": ".py",
      "mimetype": "text/x-python",
      "name": "python",
      "nbconvert_exporter": "python",
      "pygments_lexer": "ipython3",
      "version": "3.5.2"
    }
  },
  "nbformat": 4,
  "nbformat_minor": 0,
  "cells": [
    {
      "cell_type": "markdown",
      "source": " Yet Another Titanic Dataset Analysis",
      "metadata": {}
    },
    {
      "cell_type": "code",
      "source": "# Imports\n\n# pandas\nimport pandas as pd\nfrom pandas import Series,DataFrame\n\n# numpy, matplotlib, seaborn\nimport numpy as np\nimport matplotlib.pyplot as plt\nimport seaborn as sns\nsns.set_style('whitegrid')\n%matplotlib inline",
      "execution_count": null,
      "outputs": [],
      "metadata": {}
    },
    {
      "cell_type": "code",
      "source": "# get titanic & test csv files as a DataFrame\ntitanic_df = pd.read_csv(\"../input/train.csv\")\ntest_df    = pd.read_csv(\"../input/test.csv\")\n\n# preview the data\ntitanic_df.head()",
      "execution_count": null,
      "outputs": [],
      "metadata": {}
    },
    {
      "cell_type": "markdown",
      "source": "Passenger ID, name, and ticket will be dropped. Fare could be other candidate to be dropped (correlation with class), and perhaps cabin too. I'll initially assume that cabin doesn't help predict Survive, and let's first see what happens with fare and class.",
      "metadata": {}
    },
    {
      "cell_type": "code",
      "source": "train = titanic_df.drop(['PassengerId','Name','Ticket','Cabin'], axis=1)\ntest    = test_df.drop(['PassengerId','Name','Ticket','Cabin'], axis=1)\n#We also add a 1/0 variable for Sex\ndf_sex=pd.get_dummies(train['Sex'],drop_first=True)\ntrain=train.join(df_sex)\n\ndf_sex_2=pd.get_dummies(test['Sex'],drop_first=True)\ntest=test.join(df_sex_2)\n#Also df['Gender'] = df['Sex'].map( {'female': 0, 'male': 1} ).astype(int)\n\n\n#Dummies for Pclass too\n\ndf_pclass=pd.get_dummies(train['Pclass'],prefix='Class').astype(int)\ntrain=train.join(df_pclass)\n\ndf_pclass_2=pd.get_dummies(test['Pclass'],prefix='Class').astype(int)\ntest=test.join(df_pclass_2)\ntrain.head()",
      "execution_count": null,
      "outputs": [],
      "metadata": {}
    },
    {
      "cell_type": "code",
      "source": "#Deal with age\n\navg_age_train=train['Age'].mean()\nstd_age_train=train['Age'].std()\nnans_age_train=train['Age'].isnull().sum()\n\navg_age_test=test['Age'].mean()\nstd_age_test=test['Age'].std()\nnans_age_test=test['Age'].isnull().sum()\n\n#Generate random ages\nrand_1 = np.random.randint(avg_age_train-std_age_train,avg_age_train+std_age_train,size=nans_age_train)\nrand_2 = np.random.randint(avg_age_test-std_age_test,avg_age_test+std_age_test,size=nans_age_test)\n\n#Fill NaNs\n#train[\"Age\"][np.isnan(train[\"Age\"])] = rand_1\n#test[\"Age\"][np.isnan(test[\"Age\"])] = rand_2\n#Median better than mean to avoid outliers\ntrain['Age'].fillna(train['Age'].median(), inplace=True)\ntest['Age'].fillna(test['Age'].median(), inplace=True)\n#Check\nnp.all(~np.isnan(train[\"Age\"]))",
      "execution_count": null,
      "outputs": [],
      "metadata": {}
    },
    {
      "cell_type": "code",
      "source": "corrmat=train[['Survived','Class_1','Class_2','Class_3','SibSp','Parch','Fare','male','Age']].corr()\nprint(corrmat)\nsns.heatmap(corrmat,vmax=.8,annot=True)",
      "execution_count": null,
      "outputs": [],
      "metadata": {}
    },
    {
      "cell_type": "markdown",
      "source": "There doesn't seem to be NaNs or weird things, no need for cleaning. But we do need to fill some values for age. Also, I should check whether embarked does something. Let's go with that first. ",
      "metadata": {}
    },
    {
      "cell_type": "code",
      "source": "sns.countplot(x=\"Embarked\", data=train);\nplt.figure();\nsns.barplot(x='Embarked',y=\"Survived\", data=train);",
      "execution_count": null,
      "outputs": [],
      "metadata": {}
    },
    {
      "cell_type": "markdown",
      "source": "But is this spurious due to higher variability in C and Q because there are less of them? Maybe. Perhaps it'd be worthwhile to keep these around, so let's dummy them, and run a regression.",
      "metadata": {}
    },
    {
      "cell_type": "markdown",
      "source": "It seems to make sense to impute the missing values to S, as it is the most common, and near the average",
      "metadata": {}
    },
    {
      "cell_type": "code",
      "source": "train['Embarked']=train['Embarked'].fillna('S')\ntest['Embarked']=test['Embarked'].fillna('S')\n\ndf_em=pd.get_dummies(train['Embarked'],prefix='Embarked')",
      "execution_count": null,
      "outputs": [],
      "metadata": {}
    },
    {
      "cell_type": "markdown",
      "source": "Let's study the fare-class relationship",
      "metadata": {}
    },
    {
      "cell_type": "code",
      "source": "# First, I need to extract the fares and  group them by Pclass, then plot.\n#pclass_fare=train[['Fare','Pclass']]\n#print(pclass_fare.groupby(['Pclass']).describe())\n#print(pclass_fare.groupby(['Pclass']).mean())\n#sns.boxplot(x=\"Pclass\", y=\"Fare\", data=pclass_fare);",
      "execution_count": null,
      "outputs": [],
      "metadata": {}
    },
    {
      "cell_type": "markdown",
      "source": "As expected, the correlation seems to be there. But how strong is the correlation?",
      "metadata": {}
    },
    {
      "cell_type": "markdown",
      "source": "Hm, perhaps better to keep it. $R^2$ is not that high",
      "metadata": {}
    },
    {
      "cell_type": "markdown",
      "source": "For fun, how are fares by Pclass distributed?",
      "metadata": {}
    },
    {
      "cell_type": "code",
      "source": "sns.distplot(train[train['Class_1']==1]['Fare'])\nplt.figure()\nsns.distplot(train[train['Class_2']==1]['Fare'])\nsns.distplot(train[train['Class_3']==1]['Fare'])",
      "execution_count": null,
      "outputs": [],
      "metadata": {}
    },
    {
      "cell_type": "markdown",
      "source": "Back to Embarked and survived:",
      "metadata": {}
    },
    {
      "cell_type": "code",
      "source": "# result = sm.ols(formula=\"Survived ~Embarked_Q+Embarked_C+Embarked_S \", data=train).fit()\n# print(result.params)\n# print (result.summary())\n#R2 too small, disregard.",
      "execution_count": null,
      "outputs": [],
      "metadata": {}
    },
    {
      "cell_type": "markdown",
      "source": "So finally, the choosen features will be Pclass, Fare, male, and age. Time to do some predictions.",
      "metadata": {}
    },
    {
      "cell_type": "code",
      "source": "# define training and testing sets\n#There happens to be one missing element in Fare. So let's fix that\ntest[\"Fare\"].fillna(test[\"Fare\"].median(), inplace=True)\nX_train = train[['Pclass','Fare','male','Age']]\nY_train = train[[\"Survived\"]]\nX_test  = test[['Pclass','Fare','male','Age']]",
      "execution_count": null,
      "outputs": [],
      "metadata": {}
    },
    {
      "cell_type": "code",
      "source": "# Logistic Regression\n# machine learning\nfrom sklearn.linear_model import LogisticRegression\nlogreg = LogisticRegression()\n\nlogreg.fit(X_train, Y_train.values.ravel())\n\nY_pred = logreg.predict(X_test)\nlogreg.score(X_train, Y_train)",
      "execution_count": null,
      "outputs": [],
      "metadata": {}
    },
    {
      "cell_type": "markdown",
      "source": "Let's add some more features",
      "metadata": {}
    },
    {
      "cell_type": "code",
      "source": "train['FamilySize'] = train['SibSp'] + train['Parch']\ntest['FamilySize'] = test['SibSp'] + test['Parch']\n\n# If greater than zero, it'll be one. If not, zero\ntrain['HaveFamily'] = 0\ntest['HaveFamily'] = 0\ntest['FamilySize'] = test['SibSp'] + test['Parch']\ntrain['FamilySize'] = train['SibSp'] + train['Parch']\n\ntest.loc[test['FamilySize']>0,'HaveFamily']=1\ntrain.loc[train['FamilySize']>0,'HaveFamily']=1\n\n#Childs\ntrain['child'] = 0\ntest['child'] = 0\ntest.loc[test['Age']<15,'child']=1\ntrain.loc[train['Age']<15,'child']=1\npredictors=['Parch','SibSp','Fare','male','Age','FamilySize','HaveFamily','Class_1','Class_2','Class_3','child']\nX_train = train[predictors]\n\nY_train = train[[\"Survived\"]]\nX_test  = test[predictors]",
      "execution_count": null,
      "outputs": [],
      "metadata": {}
    },
    {
      "cell_type": "code",
      "source": "corrmat=train[predictors].corr()\nprint(corrmat)\nsns.heatmap(corrmat,annot=True)",
      "execution_count": null,
      "outputs": [],
      "metadata": {}
    },
    {
      "cell_type": "code",
      "source": "logreg = LogisticRegression()\n\nlogreg.fit(X_train, Y_train.values.ravel())\n\nY_pred = logreg.predict(X_test)\nlogreg.score(X_train, Y_train)",
      "execution_count": null,
      "outputs": [],
      "metadata": {}
    },
    {
      "cell_type": "markdown",
      "source": "Including the family bits and Class increases the score. (!) Guess it wasn't that good of an idea to disregard those at the beginning.\nLet's now try a bunch of other methods.",
      "metadata": {}
    },
    {
      "cell_type": "code",
      "source": "# Import the random forest package\nfrom sklearn.ensemble import RandomForestClassifier \nfrom sklearn.model_selection import learning_curve\n\n\n# Create the random forest object which will include all the parameters\n# for the fit\nforest=RandomForestClassifier(max_features='sqrt',max_depth=8,n_estimators=240)\n\n# Fit the training data to the Survived labels and create the decision trees\nforest.fit(X_train,Y_train.values.ravel())\n\n# Take the same decision trees and run it on the test data\nY_pred = forest.predict(X_test)\nforest.score(X_train, Y_train)\n# What features are important?\nfeatures = pd.DataFrame()\nfeatures['feature'] = X_train.columns\nfeatures['importance'] = forest.feature_importances_\nfeatures.sort(['importance'],ascending=False)",
      "execution_count": null,
      "outputs": [],
      "metadata": {}
    },
    {
      "cell_type": "code",
      "source": "from sklearn.model_selection import validation_curve\nX, y = X_train,Y_train['Survived']\n#X, y = train_new,Y_train['Survived']\ndef cross_val(model,X,y,pname):\n    param_range = np.arange(100,300,50)\n    train_scores, test_scores = validation_curve(\n        model, X, y, param_name=pname, param_range=param_range, scoring=\"accuracy\", n_jobs=4)\n    train_scores_mean = np.mean(train_scores, axis=1)\n    train_scores_std = np.std(train_scores, axis=1)\n    test_scores_mean = np.mean(test_scores, axis=1)\n    test_scores_std = np.std(test_scores, axis=1)\n\n    plt.title(\"Validation Curve with Random Forest\")\n    plt.xlabel(\"Number of estimators\")\n    plt.ylabel(\"Score\")\n    lw = 2\n    plt.plot(param_range, train_scores_mean, label=\"Training score\",\n                 color=\"darkorange\", lw=lw)\n    plt.fill_between(param_range, train_scores_mean - train_scores_std,\n                     train_scores_mean + train_scores_std, alpha=0.2,\n                     color=\"darkorange\", lw=lw)\n    plt.plot(param_range, test_scores_mean, label=\"Cross-validation score\",\n                 color=\"navy\", lw=lw)\n    plt.fill_between(param_range, test_scores_mean - test_scores_std,\n                     test_scores_mean + test_scores_std, alpha=0.2,\n                     color=\"navy\", lw=lw)\n    plt.legend(loc=\"best\")\n    plt.show()\ncross_val(RandomForestClassifier(),X,y,'n_estimators')",
      "execution_count": null,
      "outputs": [],
      "metadata": {}
    },
    {
      "cell_type": "code",
      "source": "from sklearn.model_selection import learning_curve\nfrom sklearn.model_selection import ShuffleSplit\n\n\ndef plot_learning_curve(estimator, title, X, y, ylim=None, cv=None,\n                        n_jobs=1, train_sizes=np.linspace(.1, 1.0, 5)):\n    \"\"\"\n    Generate a simple plot of the test and training learning curve.\n\n    Parameters\n    ----------\n    estimator : object type that implements the \"fit\" and \"predict\" methods\n        An object of that type which is cloned for each validation.\n\n    title : string\n        Title for the chart.\n\n    X : array-like, shape (n_samples, n_features)\n        Training vector, where n_samples is the number of samples and\n        n_features is the number of features.\n\n    y : array-like, shape (n_samples) or (n_samples, n_features), optional\n        Target relative to X for classification or regression;\n        None for unsupervised learning.\n\n    ylim : tuple, shape (ymin, ymax), optional\n        Defines minimum and maximum yvalues plotted.\n\n    cv : int, cross-validation generator or an iterable, optional\n        Determines the cross-validation splitting strategy.\n        Possible inputs for cv are:\n          - None, to use the default 3-fold cross-validation,\n          - integer, to specify the number of folds.\n          - An object to be used as a cross-validation generator.\n          - An iterable yielding train/test splits.\n\n        For integer/None inputs, if ``y`` is binary or multiclass,\n        :class:`StratifiedKFold` used. If the estimator is not a classifier\n        or if ``y`` is neither binary nor multiclass, :class:`KFold` is used.\n\n        Refer :ref:`User Guide <cross_validation>` for the various\n        cross-validators that can be used here.\n\n    n_jobs : integer, optional\n        Number of jobs to run in parallel (default 1).\n    \"\"\"\n    plt.figure()\n    plt.title(title)\n    if ylim is not None:\n        plt.ylim(*ylim)\n    plt.xlabel(\"Training examples\")\n    plt.ylabel(\"Score\")\n    \n    train_sizes, train_scores, test_scores = learning_curve(\n        estimator, X, y, cv=cv, n_jobs=n_jobs, train_sizes=train_sizes)\n    train_scores_mean = np.mean(train_scores, axis=1)\n    train_scores_std = np.std(train_scores, axis=1)\n    test_scores_mean = np.mean(test_scores, axis=1)\n    test_scores_std = np.std(test_scores, axis=1)\n    plt.grid()\n\n    plt.fill_between(train_sizes, train_scores_mean - train_scores_std,\n                     train_scores_mean + train_scores_std, alpha=0.1,\n                     color=\"r\")\n    plt.fill_between(train_sizes, test_scores_mean - test_scores_std,\n                     test_scores_mean + test_scores_std, alpha=0.1, color=\"g\")\n    plt.plot(train_sizes, train_scores_mean, 'o-', color=\"r\",\n             label=\"Training score\")\n    plt.plot(train_sizes, test_scores_mean, 'o-', color=\"g\",\n             label=\"Cross-validation score\")\n\n    plt.legend(loc=\"best\")\n    return plt\n\n\n\ntitle = \"Learning Curves (RandomForest)\"\n# Cross validation with 100 iterations to get smoother mean test and train\n# score curves, each time with 20% data randomly selected as a validation set.\ncv = ShuffleSplit(n_splits=20, test_size=0.33, random_state=0)\n\nestimator=RandomForestClassifier(n_estimators=100)\nplot_learning_curve(estimator, title, X, y, ylim=(0.7, 1.01), cv=cv, n_jobs=4)\n",
      "execution_count": null,
      "outputs": [],
      "metadata": {}
    },
    {
      "cell_type": "markdown",
      "source": "Hmm, underfitting :/",
      "metadata": {}
    },
    {
      "cell_type": "markdown",
      "source": "The prediction seems good enough for now, let's submit'...\n\n... Or maybe not. First public submission got 0.65. Time to try another method?",
      "metadata": {}
    },
    {
      "cell_type": "code",
      "source": "#from sklearn.model_selection import StratifiedKFold\n#from sklearn.model_selection import GridSearchCV\nforest = RandomForestClassifier(max_features='sqrt')\n#240,8,gini\n#parameter_grid = {\n #                'max_depth' : [4,5,6,7,8],\n#               'n_estimators': [200,210,240,250],\n   #              'criterion': ['gini','entropy']\n    #             }\n#RandomForestClassifier(max_features='sqrt',max_depth=7,n_estimators=240)\n#cvl = StratifiedKFold(n_splits=5)\n#cross_validation=cvl.get_n_splits(X,y)\n\n#grid_search = GridSearchCV(forest,\n#                           param_grid=parameter_grid,\n#                          cv=cross_validation)\n#\n#grid_search.fit(X_train, y)\n\n#print('Best score: {}'.format(grid_search.best_score_))\n#print('Best parameters: {}'.format(grid_search.best_params_))",
      "execution_count": null,
      "outputs": [],
      "metadata": {}
    },
    {
      "cell_type": "markdown",
      "source": "About 0.775 with RandomForests. One final trial, with XGBoost",
      "metadata": {}
    },
    {
      "cell_type": "code",
      "source": "from xgboost import XGBClassifier\nfrom sklearn.metrics import accuracy_score\nfrom sklearn.model_selection import StratifiedKFold\nfrom sklearn.model_selection import GridSearchCV\n# fit model no training data\nmodel = XGBClassifier()\nmodel_params = {\n    'learning_rate': [0.05, 0.1],\n    'n_estimators': [100,150,200],\n    'max_depth': [2, 3,7, 10],\n}\ncv = StratifiedKFold()\ncv.get_n_splits(X_train,Y_train)\ngrid= GridSearchCV(model,model_params,scoring='roc_auc',cv=cv,verbose=2)\nbest_params={'n_estimators': 100, 'max_depth': 2, 'learning_rate': 0.05}\n#grid.fit(X_train, Y_train.values.ravel())\nmodel = XGBClassifier(n_estimators= 100, max_depth= 2, learning_rate= 0.05)\nmodel.fit(X_train,Y_train.values.ravel())\n\n# Take the same decision trees and run it on the test data\nY_pred = model.predict(X_test)\n#Y_pred = [round(value) for value in Y_pred]",
      "execution_count": null,
      "outputs": [],
      "metadata": {}
    },
    {
      "cell_type": "code",
      "source": "#cross_val(XGBClassifier(),X,y,'n_estimators')\n#About 200 seems okay",
      "execution_count": null,
      "outputs": [],
      "metadata": {}
    },
    {
      "cell_type": "code",
      "source": "test.head()",
      "execution_count": null,
      "outputs": [],
      "metadata": {}
    },
    {
      "cell_type": "code",
      "source": "submission = pd.DataFrame({\n        \"PassengerId\": test_df[\"PassengerId\"],\n        \"Survived\": Y_pred\n    })\nsubmission.to_csv('titanic.csv', index=False)",
      "execution_count": null,
      "outputs": [],
      "metadata": {}
    },
    {
      "cell_type": "markdown",
      "source": "# Lessons learned\n\n1. Establishing a process for analysing the data is important, even if that process requires iteration\n2. It really comes down to explore the data, generate features, then feed to the algorithm\n3. Which algorithm? Apparently XGBoost is the best. Also, try neural nets with keras.\n4. Correlation plots are interesting to heuristically decide what to keep/drop. In the end\n5. Some plots are better than others, depending on the case",
      "metadata": {}
    }
  ]
}