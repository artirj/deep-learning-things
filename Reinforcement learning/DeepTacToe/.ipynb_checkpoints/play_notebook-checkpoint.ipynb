{
 "cells": [
  {
   "cell_type": "code",
   "execution_count": null,
   "metadata": {
    "collapsed": false,
    "scrolled": false
   },
   "outputs": [
    {
     "name": "stdout",
     "output_type": "stream",
     "text": [
      "The autoreload extension is already loaded. To reload it, use:\n",
      "  %reload_ext autoreload\n"
     ]
    }
   ],
   "source": [
    "%load_ext autoreload\n",
    "%autoreload 2\n",
    "import deeptactoe\n",
    "import numpy as np\n",
    "from deeptactoe import game as g\n",
    "from pprint import pprint as pp\n",
    "import matplotlib.pyplot as plt\n",
    "import seaborn as sns\n",
    "%matplotlib inline\n",
    "\n",
    "board=g.Board()\n",
    "player1=g.Player(board,1)\n",
    "player1.load_Q()\n",
    "player2=g.Player(board,2,beh='random')\n",
    "board.start_game()\n",
    "wins=[]\n",
    "n_ep=100000\n",
    "\n",
    "for episode in range(n_ep):\n",
    "\tboard.clear()\n",
    "\tfor i in range(6):\n",
    "\t\taction=player1.move()\t\t\n",
    "\t\tplayer1.update_Q(action)\n",
    "\t\tplayer1.update_epsilon(episode)\n",
    "\t\tboard.update(action,1)\t\n",
    "\t\tif(board.get_condition()<4): break\t\n",
    "\t\taction=player2.move()\n",
    "        #Yes, this is hackish, but it works.\n",
    "        #It would be less hackish if I kept track of who is playing too.\n",
    "        #In the deep learning version, this has to be improved\n",
    "\t\tplayer1.update_Q(action)\n",
    "\t\tboard.update(action,2)\t\t\n",
    "\t\tif(board.get_condition()<4): break\n",
    "\tif(episode%100==0):\n",
    "\t\twins.append(g.run_trial(player1,1))\n",
    "player1.save_Q()\n",
    "\n",
    "\n",
    "sns.regplot(np.arange(0,n_ep,100),np.array(wins))\n"
   ]
  },
  {
   "cell_type": "code",
   "execution_count": 74,
   "metadata": {
    "collapsed": false
   },
   "outputs": [],
   "source": [
    "board.clear()\n",
    "board.set_state([0,0,0,0,0,0,0,0,0])\n"
   ]
  },
  {
   "cell_type": "code",
   "execution_count": 52,
   "metadata": {
    "collapsed": false
   },
   "outputs": [
    {
     "name": "stdout",
     "output_type": "stream",
     "text": [
      "State([[0, 0, 0],\n",
      "       [0, 0, 0],\n",
      "       [0, 0, 0]])\n"
     ]
    }
   ],
   "source": [
    "board.show()"
   ]
  },
  {
   "cell_type": "code",
   "execution_count": 85,
   "metadata": {
    "collapsed": false
   },
   "outputs": [
    {
     "name": "stdout",
     "output_type": "stream",
     "text": [
      "State([[1, 2, 2],\n",
      "       [1, 1, 1],\n",
      "       [0, 0, 2]])\n"
     ]
    }
   ],
   "source": [
    "board.update(player1.move(),1)\n",
    "board.show()"
   ]
  },
  {
   "cell_type": "code",
   "execution_count": 84,
   "metadata": {
    "collapsed": false
   },
   "outputs": [
    {
     "name": "stdout",
     "output_type": "stream",
     "text": [
      "State([[1, 2, 2],\n",
      "       [0, 1, 1],\n",
      "       [0, 0, 2]])\n"
     ]
    }
   ],
   "source": [
    "board.update(2,2)\n",
    "board.show()"
   ]
  },
  {
   "cell_type": "code",
   "execution_count": 73,
   "metadata": {
    "collapsed": false
   },
   "outputs": [
    {
     "data": {
      "text/plain": [
       "1"
      ]
     },
     "execution_count": 73,
     "metadata": {},
     "output_type": "execute_result"
    }
   ],
   "source": []
  }
 ],
 "metadata": {
  "kernelspec": {
   "display_name": "Python [conda root]",
   "language": "python",
   "name": "conda-root-py"
  },
  "language_info": {
   "codemirror_mode": {
    "name": "ipython",
    "version": 3
   },
   "file_extension": ".py",
   "mimetype": "text/x-python",
   "name": "python",
   "nbconvert_exporter": "python",
   "pygments_lexer": "ipython3",
   "version": "3.5.2"
  }
 },
 "nbformat": 4,
 "nbformat_minor": 2
}
