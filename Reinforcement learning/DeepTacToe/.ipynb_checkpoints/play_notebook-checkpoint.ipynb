{
 "cells": [
  {
   "cell_type": "code",
   "execution_count": 1,
   "metadata": {
    "collapsed": false
   },
   "outputs": [
    {
     "name": "stdout",
     "output_type": "stream",
     "text": [
      "[0.0, 0.0, 0.0, 0.0, 0.0, 0.0, 0.0, 0.0, 0.0]\n",
      "[0.0, 0.0, 0.0, 0.0, 0.0, 0.0, 0.0, 0.0, 0.0]\n",
      "[0.0, 0.0, 0.0, 0.0, 0.0, 0.0, 0.0, 0.0, 0.0]\n"
     ]
    }
   ],
   "source": [
    "import deeptactoe\n",
    "from deeptactoe import game as g\n",
    "from pprint import pprint as pp\n",
    "board=g.Board()\n",
    "player1=g.Player(board,1)\n",
    "player2=g.Player(board,2,beh='random')\n",
    "board.start_game()\n",
    "players=[player1,player2]\n",
    "pp(player1.eval_board())\n",
    "\n",
    "for episode in range(10000):\n",
    "\tboard.clear()\n",
    "\tfor i in range(6):\t\t\n",
    "\n",
    "\t\taction=player1.move()\t\t\n",
    "\t\tplayer1.update_Q(action)\n",
    "\t\tplayer1.update_epsilon(episode)\n",
    "\t\tboard.update(action,1)\t\n",
    "\t\tif(board.get_condition()<4): break\t\n",
    "\t\taction=player2.move()\n",
    "\t\tboard.update(action,2)\t\t\n",
    "\t\tif(board.get_condition()<4): break\n",
    "board.set_state(g.blank_state())\n",
    "pp(player1.eval_board())"
   ]
  },
  {
   "cell_type": "code",
   "execution_count": 39,
   "metadata": {
    "collapsed": false
   },
   "outputs": [
    {
     "name": "stdout",
     "output_type": "stream",
     "text": [
      "[0.0, 0.0, 0.0, 0.0, 0.0, 0.0, 0.0, 0.0]\n"
     ]
    }
   ],
   "source": [
    "win_1\n",
    "for episode in range(10000):\n",
    "\tboard.clear()\n",
    "\tfor i in range(6):\t\t\n",
    "\n",
    "\t\taction=player1.move()\t\t\n",
    "\t\tplayer1.update_epsilon(episode)\n",
    "\t\tboard.update(action,1)\t\n",
    "\t\tif(board.get_condition()<4): break\t\n",
    "\t\taction=player2.move(play=True)\n",
    "\t\tboard.update(action,2)\t\t\n",
    "\t\tif(board.get_condition()<4): break\n",
    "board.set_state(g.blank_state())"
   ]
  }
 ],
 "metadata": {
  "kernelspec": {
   "display_name": "Python [conda root]",
   "language": "python",
   "name": "conda-root-py"
  },
  "language_info": {
   "codemirror_mode": {
    "name": "ipython",
    "version": 3
   },
   "file_extension": ".py",
   "mimetype": "text/x-python",
   "name": "python",
   "nbconvert_exporter": "python",
   "pygments_lexer": "ipython3",
   "version": "3.5.2"
  }
 },
 "nbformat": 4,
 "nbformat_minor": 2
}
