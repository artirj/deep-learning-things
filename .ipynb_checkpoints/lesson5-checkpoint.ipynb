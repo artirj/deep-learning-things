{
 "cells": [
  {
   "cell_type": "code",
   "execution_count": 1,
   "metadata": {
    "collapsed": false,
    "deletable": true,
    "editable": true
   },
   "outputs": [
    {
     "name": "stderr",
     "output_type": "stream",
     "text": [
      "Using gpu device 0: GeForce GTX 860M (CNMeM is enabled with initial size: 70.0% of memory, cuDNN 5103)\n",
      "/home/artir/anaconda3/lib/python3.5/site-packages/theano/sandbox/cuda/__init__.py:600: UserWarning: Your cuDNN version is more recent than the one Theano officially supports. If you see any problems, try updating Theano or downgrading cuDNN to version 5.\n",
      "  warnings.warn(warn)\n"
     ]
    }
   ],
   "source": [
    "from theano.sandbox import cuda"
   ]
  },
  {
   "cell_type": "code",
   "execution_count": 2,
   "metadata": {
    "collapsed": false,
    "deletable": true,
    "editable": true
   },
   "outputs": [
    {
     "name": "stderr",
     "output_type": "stream",
     "text": [
      "Using Theano backend.\n"
     ]
    }
   ],
   "source": [
    "%matplotlib inline\n",
    "import utils\n",
    "from utils import *\n",
    "from __future__ import division, print_function"
   ]
  },
  {
   "cell_type": "code",
   "execution_count": 3,
   "metadata": {
    "collapsed": true,
    "deletable": true,
    "editable": true
   },
   "outputs": [],
   "source": [
    "model_path = 'data/imdb/models/'"
   ]
  },
  {
   "cell_type": "markdown",
   "metadata": {
    "deletable": true,
    "editable": true
   },
   "source": [
    "## Setup data"
   ]
  },
  {
   "cell_type": "markdown",
   "metadata": {
    "deletable": true,
    "editable": true
   },
   "source": [
    "We're going to look at the IMDB dataset, which contains movie reviews from IMDB, along with their sentiment. Keras comes with some helpers for this dataset."
   ]
  },
  {
   "cell_type": "code",
   "execution_count": 4,
   "metadata": {
    "collapsed": false,
    "deletable": true,
    "editable": true
   },
   "outputs": [
    {
     "name": "stdout",
     "output_type": "stream",
     "text": [
      "Downloading data from https://s3.amazonaws.com/text-datasets/imdb_word_index.pkl\n",
      "2334720/2343108 [============================>.] - ETA: 0s \b\b\b\b\b\b\b\b\b\b\b\b\b\b\b\b\b\b\b\b\b\b\b\b\b\b\b\b\b\b\b\b\b\b\b\b\b\b\b\b\b\b\b\b\b\b\b\b\b\b\b\b\b\b\b\b\b\b\b\b\b\b\b\b\b\b\b\b\b\b\b\b\b\b\b\b\b\b\b\b\b\b\b\b\b\b\b\b\b\b\b\b\b\b\b\b\b\b\b\b\b\b\b\b\b\b\b\b\b\b\b\b\b\b\b\b\b\b\b\b\b\b\b\b\b\b\b\b\b\b\b\b\b\b\b\b\b\b\b\b\b\b\b\b\b\b\b\b\b\b\b\b\b\b\b\b\b\b\b\b\b\b\b\b\b\b\b\b\b\b\b\b\b\b\b\b\b\b\b\b\b\b\b\b\b\b\b\b\b\b\b\b\b\b\b\b\b\b\b\b\b\b\b\b\b\b\b\b\b\b\b\b\b\b\b\b\b\b\b\b\b\b\b\b\b\b\b\b\b\b\b\b\b\b\b\b\b\b\b\b\b\b\b\b\b\b\b\b\b\b\b\b\b\b\b\b\b\b\b\b\b\b\b\b\b\b\b\b\b\b\b\b\b\b\b\b\b\b\b\b\b\b\b\b\b\b\b\b\b\b\b\b\b\b\b\b\b\b\b\b\b\b\b\b\b\b\b\b\b\b\b\b\b\b\b\b\b\b\b\b\b\b\b\b\b\b\b\b\b\b\b\b\b\b\b\b\b\b\b\b\b\b\b\b\b\b\b\b\b\b\b\b\b\b\b\b\b\b\b\b\b\b\b\b\b\b\b\b\b\b\b\b\b\b\b\b\b\b\b\b\b\b\b\b\b\b\b\b\b\b\b\b\b\b\b\b\b\b\b\b\b\b\b\b\b\b\b\b\b\b\b\b\b\b\b\b\b\b\b\b\b\b\b\b\b\b\b\b\b\b\b\b\b\b\b\b\b\b\b\b\b\b\b\b\b\b\b\b\b\b\b\b\b\b\b\b\b\b\b\b\b\b\b\b\b\b\b\b\b\b\b\b\b\b\b\b\b\b\b\b\b\b\b\b\b\b\b\b\b\b\b\b\b\b\b\b\b\b\b\b\b\b\b\b\b\b\b\b\b\b\b\b\b\b\b\b\b\b\b\b\b\b\b\b\b\b\b\b\b\b\b\b\b\b\b\b\b\b\b\b\b\b\b\b\b\b\b\b\b\b\b\b\b\b\b\b\b\b\b\b\b\b\b\b\b\b\b\b\b\b\b\b\b\b\b\b\b\b\b\b\b\b\b"
     ]
    }
   ],
   "source": [
    "from keras.datasets import imdb\n",
    "idx = imdb.get_word_index()"
   ]
  },
  {
   "cell_type": "markdown",
   "metadata": {
    "deletable": true,
    "editable": true
   },
   "source": [
    "This is the word list:"
   ]
  },
  {
   "cell_type": "code",
   "execution_count": 5,
   "metadata": {
    "collapsed": false,
    "deletable": true,
    "editable": true
   },
   "outputs": [
    {
     "data": {
      "text/plain": [
       "['the', 'and', 'a', 'of', 'to', 'is', 'br', 'in', 'it', 'i']"
      ]
     },
     "execution_count": 5,
     "metadata": {},
     "output_type": "execute_result"
    }
   ],
   "source": [
    "idx_arr = sorted(idx, key=idx.get)\n",
    "idx_arr[:10]"
   ]
  },
  {
   "cell_type": "markdown",
   "metadata": {
    "deletable": true,
    "editable": true
   },
   "source": [
    "...and this is the mapping from id to word"
   ]
  },
  {
   "cell_type": "code",
   "execution_count": 18,
   "metadata": {
    "collapsed": false,
    "deletable": true,
    "editable": true,
    "scrolled": false
   },
   "outputs": [],
   "source": [
    "idx2word = {v: k for k, v in idx.items()}"
   ]
  },
  {
   "cell_type": "code",
   "execution_count": 19,
   "metadata": {
    "collapsed": false
   },
   "outputs": [
    {
     "data": {
      "text/plain": [
       "{1: 'the',\n",
       " 2: 'and',\n",
       " 3: 'a',\n",
       " 4: 'of',\n",
       " 5: 'to',\n",
       " 6: 'is',\n",
       " 7: 'br',\n",
       " 8: 'in',\n",
       " 9: 'it',\n",
       " 10: 'i',\n",
       " 11: 'this',\n",
       " 12: 'that',\n",
       " 13: 'was',\n",
       " 14: 'as',\n",
       " 15: 'for',\n",
       " 16: 'with',\n",
       " 17: 'movie',\n",
       " 18: 'but',\n",
       " 19: 'film',\n",
       " 20: 'on',\n",
       " 21: 'not',\n",
       " 22: 'you',\n",
       " 23: 'are',\n",
       " 24: 'his',\n",
       " 25: 'have',\n",
       " 26: 'he',\n",
       " 27: 'be',\n",
       " 28: 'one',\n",
       " 29: 'all',\n",
       " 30: 'at',\n",
       " 31: 'by',\n",
       " 32: 'an',\n",
       " 33: 'they',\n",
       " 34: 'who',\n",
       " 35: 'so',\n",
       " 36: 'from',\n",
       " 37: 'like',\n",
       " 38: 'her',\n",
       " 39: 'or',\n",
       " 40: 'just',\n",
       " 41: 'about',\n",
       " 42: \"it's\",\n",
       " 43: 'out',\n",
       " 44: 'has',\n",
       " 45: 'if',\n",
       " 46: 'some',\n",
       " 47: 'there',\n",
       " 48: 'what',\n",
       " 49: 'good',\n",
       " 50: 'more',\n",
       " 51: 'when',\n",
       " 52: 'very',\n",
       " 53: 'up',\n",
       " 54: 'no',\n",
       " 55: 'time',\n",
       " 56: 'she',\n",
       " 57: 'even',\n",
       " 58: 'my',\n",
       " 59: 'would',\n",
       " 60: 'which',\n",
       " 61: 'only',\n",
       " 62: 'story',\n",
       " 63: 'really',\n",
       " 64: 'see',\n",
       " 65: 'their',\n",
       " 66: 'had',\n",
       " 67: 'can',\n",
       " 68: 'were',\n",
       " 69: 'me',\n",
       " 70: 'well',\n",
       " 71: 'than',\n",
       " 72: 'we',\n",
       " 73: 'much',\n",
       " 74: 'been',\n",
       " 75: 'bad',\n",
       " 76: 'get',\n",
       " 77: 'will',\n",
       " 78: 'do',\n",
       " 79: 'also',\n",
       " 80: 'into',\n",
       " 81: 'people',\n",
       " 82: 'other',\n",
       " 83: 'first',\n",
       " 84: 'great',\n",
       " 85: 'because',\n",
       " 86: 'how',\n",
       " 87: 'him',\n",
       " 88: 'most',\n",
       " 89: \"don't\",\n",
       " 90: 'made',\n",
       " 91: 'its',\n",
       " 92: 'then',\n",
       " 93: 'way',\n",
       " 94: 'make',\n",
       " 95: 'them',\n",
       " 96: 'too',\n",
       " 97: 'could',\n",
       " 98: 'any',\n",
       " 99: 'movies',\n",
       " 100: 'after',\n",
       " 101: 'think',\n",
       " 102: 'characters',\n",
       " 103: 'watch',\n",
       " 104: 'two',\n",
       " 105: 'films',\n",
       " 106: 'character',\n",
       " 107: 'seen',\n",
       " 108: 'many',\n",
       " 109: 'being',\n",
       " 110: 'life',\n",
       " 111: 'plot',\n",
       " 112: 'never',\n",
       " 113: 'acting',\n",
       " 114: 'little',\n",
       " 115: 'best',\n",
       " 116: 'love',\n",
       " 117: 'over',\n",
       " 118: 'where',\n",
       " 119: 'did',\n",
       " 120: 'show',\n",
       " 121: 'know',\n",
       " 122: 'off',\n",
       " 123: 'ever',\n",
       " 124: 'does',\n",
       " 125: 'better',\n",
       " 126: 'your',\n",
       " 127: 'end',\n",
       " 128: 'still',\n",
       " 129: 'man',\n",
       " 130: 'here',\n",
       " 131: 'these',\n",
       " 132: 'say',\n",
       " 133: 'scene',\n",
       " 134: 'while',\n",
       " 135: 'why',\n",
       " 136: 'scenes',\n",
       " 137: 'go',\n",
       " 138: 'such',\n",
       " 139: 'something',\n",
       " 140: 'through',\n",
       " 141: 'should',\n",
       " 142: 'back',\n",
       " 143: \"i'm\",\n",
       " 144: 'real',\n",
       " 145: 'those',\n",
       " 146: 'watching',\n",
       " 147: 'now',\n",
       " 148: 'though',\n",
       " 149: \"doesn't\",\n",
       " 150: 'years',\n",
       " 151: 'old',\n",
       " 152: 'thing',\n",
       " 153: 'actors',\n",
       " 154: 'work',\n",
       " 155: '10',\n",
       " 156: 'before',\n",
       " 157: 'another',\n",
       " 158: \"didn't\",\n",
       " 159: 'new',\n",
       " 160: 'funny',\n",
       " 161: 'nothing',\n",
       " 162: 'actually',\n",
       " 163: 'makes',\n",
       " 164: 'director',\n",
       " 165: 'look',\n",
       " 166: 'find',\n",
       " 167: 'going',\n",
       " 168: 'few',\n",
       " 169: 'same',\n",
       " 170: 'part',\n",
       " 171: 'again',\n",
       " 172: 'every',\n",
       " 173: 'lot',\n",
       " 174: 'cast',\n",
       " 175: 'us',\n",
       " 176: 'quite',\n",
       " 177: 'down',\n",
       " 178: 'want',\n",
       " 179: 'world',\n",
       " 180: 'things',\n",
       " 181: 'pretty',\n",
       " 182: 'young',\n",
       " 183: 'seems',\n",
       " 184: 'around',\n",
       " 185: 'got',\n",
       " 186: 'horror',\n",
       " 187: 'however',\n",
       " 188: \"can't\",\n",
       " 189: 'fact',\n",
       " 190: 'take',\n",
       " 191: 'big',\n",
       " 192: 'enough',\n",
       " 193: 'long',\n",
       " 194: 'thought',\n",
       " 195: \"that's\",\n",
       " 196: 'both',\n",
       " 197: 'between',\n",
       " 198: 'series',\n",
       " 199: 'give',\n",
       " 200: 'may',\n",
       " 201: 'original',\n",
       " 202: 'own',\n",
       " 203: 'action',\n",
       " 204: \"i've\",\n",
       " 205: 'right',\n",
       " 206: 'without',\n",
       " 207: 'always',\n",
       " 208: 'times',\n",
       " 209: 'comedy',\n",
       " 210: 'point',\n",
       " 211: 'gets',\n",
       " 212: 'must',\n",
       " 213: 'come',\n",
       " 214: 'role',\n",
       " 215: \"isn't\",\n",
       " 216: 'saw',\n",
       " 217: 'almost',\n",
       " 218: 'interesting',\n",
       " 219: 'least',\n",
       " 220: 'family',\n",
       " 221: 'done',\n",
       " 222: \"there's\",\n",
       " 223: 'whole',\n",
       " 224: 'bit',\n",
       " 225: 'music',\n",
       " 226: 'script',\n",
       " 227: 'far',\n",
       " 228: 'making',\n",
       " 229: 'guy',\n",
       " 230: 'anything',\n",
       " 231: 'minutes',\n",
       " 232: 'feel',\n",
       " 233: 'last',\n",
       " 234: 'since',\n",
       " 235: 'might',\n",
       " 236: 'performance',\n",
       " 237: \"he's\",\n",
       " 238: '2',\n",
       " 239: 'probably',\n",
       " 240: 'kind',\n",
       " 241: 'am',\n",
       " 242: 'away',\n",
       " 243: 'yet',\n",
       " 244: 'rather',\n",
       " 245: 'tv',\n",
       " 246: 'worst',\n",
       " 247: 'girl',\n",
       " 248: 'day',\n",
       " 249: 'sure',\n",
       " 250: 'fun',\n",
       " 251: 'hard',\n",
       " 252: 'woman',\n",
       " 253: 'played',\n",
       " 254: 'each',\n",
       " 255: 'found',\n",
       " 256: 'anyone',\n",
       " 257: 'having',\n",
       " 258: 'although',\n",
       " 259: 'especially',\n",
       " 260: 'our',\n",
       " 261: 'believe',\n",
       " 262: 'course',\n",
       " 263: 'comes',\n",
       " 264: 'looking',\n",
       " 265: 'screen',\n",
       " 266: 'trying',\n",
       " 267: 'set',\n",
       " 268: 'goes',\n",
       " 269: 'looks',\n",
       " 270: 'place',\n",
       " 271: 'book',\n",
       " 272: 'different',\n",
       " 273: 'put',\n",
       " 274: 'ending',\n",
       " 275: 'money',\n",
       " 276: 'maybe',\n",
       " 277: 'once',\n",
       " 278: 'sense',\n",
       " 279: 'reason',\n",
       " 280: 'true',\n",
       " 281: 'actor',\n",
       " 282: 'everything',\n",
       " 283: \"wasn't\",\n",
       " 284: 'shows',\n",
       " 285: 'dvd',\n",
       " 286: 'three',\n",
       " 287: 'worth',\n",
       " 288: 'year',\n",
       " 289: 'job',\n",
       " 290: 'main',\n",
       " 291: 'someone',\n",
       " 292: 'together',\n",
       " 293: 'watched',\n",
       " 294: 'play',\n",
       " 295: 'american',\n",
       " 296: 'plays',\n",
       " 297: '1',\n",
       " 298: 'said',\n",
       " 299: 'effects',\n",
       " 300: 'later',\n",
       " 301: 'takes',\n",
       " 302: 'instead',\n",
       " 303: 'seem',\n",
       " 304: 'beautiful',\n",
       " 305: 'john',\n",
       " 306: 'himself',\n",
       " 307: 'version',\n",
       " 308: 'audience',\n",
       " 309: 'high',\n",
       " 310: 'house',\n",
       " 311: 'night',\n",
       " 312: 'during',\n",
       " 313: 'everyone',\n",
       " 314: 'left',\n",
       " 315: 'special',\n",
       " 316: 'seeing',\n",
       " 317: 'half',\n",
       " 318: 'excellent',\n",
       " 319: 'wife',\n",
       " 320: 'star',\n",
       " 321: 'shot',\n",
       " 322: 'war',\n",
       " 323: 'idea',\n",
       " 324: 'nice',\n",
       " 325: 'black',\n",
       " 326: 'less',\n",
       " 327: 'mind',\n",
       " 328: 'simply',\n",
       " 329: 'read',\n",
       " 330: 'second',\n",
       " 331: 'else',\n",
       " 332: \"you're\",\n",
       " 333: 'father',\n",
       " 334: 'fan',\n",
       " 335: 'poor',\n",
       " 336: 'help',\n",
       " 337: 'completely',\n",
       " 338: 'death',\n",
       " 339: '3',\n",
       " 340: 'used',\n",
       " 341: 'home',\n",
       " 342: 'either',\n",
       " 343: 'short',\n",
       " 344: 'line',\n",
       " 345: 'given',\n",
       " 346: 'men',\n",
       " 347: 'top',\n",
       " 348: 'dead',\n",
       " 349: 'budget',\n",
       " 350: 'try',\n",
       " 351: 'performances',\n",
       " 352: 'wrong',\n",
       " 353: 'classic',\n",
       " 354: 'boring',\n",
       " 355: 'enjoy',\n",
       " 356: 'need',\n",
       " 357: 'rest',\n",
       " 358: 'use',\n",
       " 359: 'kids',\n",
       " 360: 'hollywood',\n",
       " 361: 'low',\n",
       " 362: 'production',\n",
       " 363: 'until',\n",
       " 364: 'along',\n",
       " 365: 'full',\n",
       " 366: 'friends',\n",
       " 367: 'camera',\n",
       " 368: 'truly',\n",
       " 369: 'women',\n",
       " 370: 'awful',\n",
       " 371: 'video',\n",
       " 372: 'next',\n",
       " 373: 'tell',\n",
       " 374: 'remember',\n",
       " 375: 'couple',\n",
       " 376: 'stupid',\n",
       " 377: 'start',\n",
       " 378: 'stars',\n",
       " 379: 'perhaps',\n",
       " 380: 'sex',\n",
       " 381: 'mean',\n",
       " 382: 'came',\n",
       " 383: 'recommend',\n",
       " 384: 'let',\n",
       " 385: 'moments',\n",
       " 386: 'wonderful',\n",
       " 387: 'episode',\n",
       " 388: 'understand',\n",
       " 389: 'small',\n",
       " 390: 'face',\n",
       " 391: 'terrible',\n",
       " 392: 'playing',\n",
       " 393: 'school',\n",
       " 394: 'getting',\n",
       " 395: 'written',\n",
       " 396: 'doing',\n",
       " 397: 'often',\n",
       " 398: 'keep',\n",
       " 399: 'early',\n",
       " 400: 'name',\n",
       " 401: 'perfect',\n",
       " 402: 'style',\n",
       " 403: 'human',\n",
       " 404: 'definitely',\n",
       " 405: 'gives',\n",
       " 406: 'others',\n",
       " 407: 'itself',\n",
       " 408: 'lines',\n",
       " 409: 'live',\n",
       " 410: 'become',\n",
       " 411: 'dialogue',\n",
       " 412: 'person',\n",
       " 413: 'lost',\n",
       " 414: 'finally',\n",
       " 415: 'piece',\n",
       " 416: 'head',\n",
       " 417: 'case',\n",
       " 418: 'felt',\n",
       " 419: 'yes',\n",
       " 420: 'liked',\n",
       " 421: 'supposed',\n",
       " 422: 'title',\n",
       " 423: \"couldn't\",\n",
       " 424: 'absolutely',\n",
       " 425: 'white',\n",
       " 426: 'against',\n",
       " 427: 'boy',\n",
       " 428: 'picture',\n",
       " 429: 'sort',\n",
       " 430: 'worse',\n",
       " 431: 'certainly',\n",
       " 432: 'went',\n",
       " 433: 'entire',\n",
       " 434: 'waste',\n",
       " 435: 'cinema',\n",
       " 436: 'problem',\n",
       " 437: 'hope',\n",
       " 438: 'entertaining',\n",
       " 439: \"she's\",\n",
       " 440: 'mr',\n",
       " 441: 'overall',\n",
       " 442: 'evil',\n",
       " 443: 'called',\n",
       " 444: 'loved',\n",
       " 445: 'based',\n",
       " 446: 'oh',\n",
       " 447: 'several',\n",
       " 448: 'fans',\n",
       " 449: 'mother',\n",
       " 450: 'drama',\n",
       " 451: 'beginning',\n",
       " 452: 'killer',\n",
       " 453: 'lives',\n",
       " 454: '5',\n",
       " 455: 'direction',\n",
       " 456: 'care',\n",
       " 457: 'already',\n",
       " 458: 'becomes',\n",
       " 459: 'laugh',\n",
       " 460: 'example',\n",
       " 461: 'friend',\n",
       " 462: 'dark',\n",
       " 463: 'despite',\n",
       " 464: 'under',\n",
       " 465: 'seemed',\n",
       " 466: 'throughout',\n",
       " 467: '4',\n",
       " 468: 'turn',\n",
       " 469: 'unfortunately',\n",
       " 470: 'wanted',\n",
       " 471: \"i'd\",\n",
       " 472: 'Â\\x96',\n",
       " 473: 'children',\n",
       " 474: 'final',\n",
       " 475: 'fine',\n",
       " 476: 'history',\n",
       " 477: 'amazing',\n",
       " 478: 'sound',\n",
       " 479: 'guess',\n",
       " 480: 'heart',\n",
       " 481: 'totally',\n",
       " 482: 'lead',\n",
       " 483: 'humor',\n",
       " 484: 'writing',\n",
       " 485: 'michael',\n",
       " 486: 'quality',\n",
       " 487: \"you'll\",\n",
       " 488: 'close',\n",
       " 489: 'son',\n",
       " 490: 'guys',\n",
       " 491: 'wants',\n",
       " 492: 'works',\n",
       " 493: 'behind',\n",
       " 494: 'tries',\n",
       " 495: 'art',\n",
       " 496: 'side',\n",
       " 497: 'game',\n",
       " 498: 'past',\n",
       " 499: 'able',\n",
       " 500: 'b',\n",
       " 501: 'days',\n",
       " 502: 'turns',\n",
       " 503: 'child',\n",
       " 504: \"they're\",\n",
       " 505: 'hand',\n",
       " 506: 'flick',\n",
       " 507: 'enjoyed',\n",
       " 508: 'act',\n",
       " 509: 'genre',\n",
       " 510: 'town',\n",
       " 511: 'favorite',\n",
       " 512: 'soon',\n",
       " 513: 'kill',\n",
       " 514: 'starts',\n",
       " 515: 'sometimes',\n",
       " 516: 'car',\n",
       " 517: 'gave',\n",
       " 518: 'run',\n",
       " 519: 'late',\n",
       " 520: 'eyes',\n",
       " 521: 'actress',\n",
       " 522: 'etc',\n",
       " 523: 'directed',\n",
       " 524: 'horrible',\n",
       " 525: \"won't\",\n",
       " 526: 'viewer',\n",
       " 527: 'brilliant',\n",
       " 528: 'parts',\n",
       " 529: 'self',\n",
       " 530: 'themselves',\n",
       " 531: 'hour',\n",
       " 532: 'expect',\n",
       " 533: 'thinking',\n",
       " 534: 'stories',\n",
       " 535: 'stuff',\n",
       " 536: 'girls',\n",
       " 537: 'obviously',\n",
       " 538: 'blood',\n",
       " 539: 'decent',\n",
       " 540: 'city',\n",
       " 541: 'voice',\n",
       " 542: 'highly',\n",
       " 543: 'myself',\n",
       " 544: 'feeling',\n",
       " 545: 'fight',\n",
       " 546: 'except',\n",
       " 547: 'slow',\n",
       " 548: 'matter',\n",
       " 549: 'type',\n",
       " 550: 'anyway',\n",
       " 551: 'kid',\n",
       " 552: 'roles',\n",
       " 553: 'killed',\n",
       " 554: 'heard',\n",
       " 555: 'god',\n",
       " 556: 'age',\n",
       " 557: 'says',\n",
       " 558: 'moment',\n",
       " 559: 'took',\n",
       " 560: 'leave',\n",
       " 561: 'writer',\n",
       " 562: 'strong',\n",
       " 563: 'cannot',\n",
       " 564: 'violence',\n",
       " 565: 'police',\n",
       " 566: 'hit',\n",
       " 567: 'stop',\n",
       " 568: 'happens',\n",
       " 569: 'particularly',\n",
       " 570: 'known',\n",
       " 571: 'involved',\n",
       " 572: 'happened',\n",
       " 573: 'extremely',\n",
       " 574: 'daughter',\n",
       " 575: 'obvious',\n",
       " 576: 'told',\n",
       " 577: 'chance',\n",
       " 578: 'living',\n",
       " 579: 'coming',\n",
       " 580: 'lack',\n",
       " 581: 'alone',\n",
       " 582: 'experience',\n",
       " 583: \"wouldn't\",\n",
       " 584: 'including',\n",
       " 585: 'murder',\n",
       " 586: 'attempt',\n",
       " 587: 's',\n",
       " 588: 'please',\n",
       " 589: 'james',\n",
       " 590: 'happen',\n",
       " 591: 'wonder',\n",
       " 592: 'crap',\n",
       " 593: 'ago',\n",
       " 594: 'brother',\n",
       " 595: \"film's\",\n",
       " 596: 'gore',\n",
       " 597: 'none',\n",
       " 598: 'complete',\n",
       " 599: 'interest',\n",
       " 600: 'score',\n",
       " 601: 'group',\n",
       " 602: 'cut',\n",
       " 603: 'simple',\n",
       " 604: 'save',\n",
       " 605: 'ok',\n",
       " 606: 'hell',\n",
       " 607: 'looked',\n",
       " 608: 'career',\n",
       " 609: 'number',\n",
       " 610: 'song',\n",
       " 611: 'possible',\n",
       " 612: 'seriously',\n",
       " 613: 'annoying',\n",
       " 614: 'shown',\n",
       " 615: 'exactly',\n",
       " 616: 'sad',\n",
       " 617: 'running',\n",
       " 618: 'musical',\n",
       " 619: 'serious',\n",
       " 620: 'taken',\n",
       " 621: 'yourself',\n",
       " 622: 'whose',\n",
       " 623: 'released',\n",
       " 624: 'cinematography',\n",
       " 625: 'david',\n",
       " 626: 'scary',\n",
       " 627: 'ends',\n",
       " 628: 'english',\n",
       " 629: 'hero',\n",
       " 630: 'usually',\n",
       " 631: 'hours',\n",
       " 632: 'reality',\n",
       " 633: 'opening',\n",
       " 634: \"i'll\",\n",
       " 635: 'across',\n",
       " 636: 'today',\n",
       " 637: 'jokes',\n",
       " 638: 'light',\n",
       " 639: 'hilarious',\n",
       " 640: 'somewhat',\n",
       " 641: 'usual',\n",
       " 642: 'started',\n",
       " 643: 'cool',\n",
       " 644: 'ridiculous',\n",
       " 645: 'body',\n",
       " 646: 'relationship',\n",
       " 647: 'view',\n",
       " 648: 'level',\n",
       " 649: 'opinion',\n",
       " 650: 'change',\n",
       " 651: 'happy',\n",
       " 652: 'middle',\n",
       " 653: 'taking',\n",
       " 654: 'wish',\n",
       " 655: 'husband',\n",
       " 656: 'finds',\n",
       " 657: 'saying',\n",
       " 658: 'order',\n",
       " 659: 'talking',\n",
       " 660: 'ones',\n",
       " 661: 'documentary',\n",
       " 662: 'shots',\n",
       " 663: 'huge',\n",
       " 664: 'novel',\n",
       " 665: 'female',\n",
       " 666: 'mostly',\n",
       " 667: 'robert',\n",
       " 668: 'power',\n",
       " 669: 'episodes',\n",
       " 670: 'room',\n",
       " 671: 'important',\n",
       " 672: 'rating',\n",
       " 673: 'talent',\n",
       " 674: 'five',\n",
       " 675: 'major',\n",
       " 676: 'turned',\n",
       " 677: 'strange',\n",
       " 678: 'word',\n",
       " 679: 'modern',\n",
       " 680: 'call',\n",
       " 681: 'apparently',\n",
       " 682: 'disappointed',\n",
       " 683: 'single',\n",
       " 684: 'events',\n",
       " 685: 'due',\n",
       " 686: 'four',\n",
       " 687: 'songs',\n",
       " 688: 'basically',\n",
       " 689: 'attention',\n",
       " 690: '7',\n",
       " 691: 'knows',\n",
       " 692: 'clearly',\n",
       " 693: 'supporting',\n",
       " 694: 'knew',\n",
       " 695: 'british',\n",
       " 696: 'television',\n",
       " 697: 'comic',\n",
       " 698: 'non',\n",
       " 699: 'fast',\n",
       " 700: 'earth',\n",
       " 701: 'country',\n",
       " 702: 'future',\n",
       " 703: 'cheap',\n",
       " 704: 'class',\n",
       " 705: 'thriller',\n",
       " 706: '8',\n",
       " 707: 'silly',\n",
       " 708: 'king',\n",
       " 709: 'problems',\n",
       " 710: \"aren't\",\n",
       " 711: 'easily',\n",
       " 712: 'words',\n",
       " 713: 'tells',\n",
       " 714: 'miss',\n",
       " 715: 'jack',\n",
       " 716: 'local',\n",
       " 717: 'sequence',\n",
       " 718: 'bring',\n",
       " 719: 'entertainment',\n",
       " 720: 'paul',\n",
       " 721: 'beyond',\n",
       " 722: 'upon',\n",
       " 723: 'whether',\n",
       " 724: 'predictable',\n",
       " 725: 'moving',\n",
       " 726: 'similar',\n",
       " 727: 'straight',\n",
       " 728: 'romantic',\n",
       " 729: 'sets',\n",
       " 730: 'review',\n",
       " 731: 'falls',\n",
       " 732: 'oscar',\n",
       " 733: 'mystery',\n",
       " 734: 'enjoyable',\n",
       " 735: 'needs',\n",
       " 736: 'appears',\n",
       " 737: 'talk',\n",
       " 738: 'rock',\n",
       " 739: 'george',\n",
       " 740: 'giving',\n",
       " 741: 'eye',\n",
       " 742: 'richard',\n",
       " 743: 'within',\n",
       " 744: 'ten',\n",
       " 745: 'animation',\n",
       " 746: 'message',\n",
       " 747: 'theater',\n",
       " 748: 'near',\n",
       " 749: 'above',\n",
       " 750: 'dull',\n",
       " 751: 'nearly',\n",
       " 752: 'sequel',\n",
       " 753: 'theme',\n",
       " 754: 'points',\n",
       " 755: \"'\",\n",
       " 756: 'stand',\n",
       " 757: 'mention',\n",
       " 758: 'lady',\n",
       " 759: 'bunch',\n",
       " 760: 'add',\n",
       " 761: 'feels',\n",
       " 762: 'herself',\n",
       " 763: 'release',\n",
       " 764: 'red',\n",
       " 765: 'team',\n",
       " 766: 'storyline',\n",
       " 767: 'surprised',\n",
       " 768: 'ways',\n",
       " 769: 'using',\n",
       " 770: 'named',\n",
       " 771: \"haven't\",\n",
       " 772: 'lots',\n",
       " 773: 'easy',\n",
       " 774: 'fantastic',\n",
       " 775: 'begins',\n",
       " 776: 'actual',\n",
       " 777: 'working',\n",
       " 778: 'effort',\n",
       " 779: 'york',\n",
       " 780: 'die',\n",
       " 781: 'hate',\n",
       " 782: 'french',\n",
       " 783: 'minute',\n",
       " 784: 'tale',\n",
       " 785: 'clear',\n",
       " 786: 'stay',\n",
       " 787: '9',\n",
       " 788: 'elements',\n",
       " 789: 'feature',\n",
       " 790: 'among',\n",
       " 791: 'follow',\n",
       " 792: 'comments',\n",
       " 793: 're',\n",
       " 794: 'viewers',\n",
       " 795: 'avoid',\n",
       " 796: 'sister',\n",
       " 797: 'showing',\n",
       " 798: 'typical',\n",
       " 799: 'editing',\n",
       " 800: \"what's\",\n",
       " 801: 'famous',\n",
       " 802: 'tried',\n",
       " 803: 'sorry',\n",
       " 804: 'dialog',\n",
       " 805: 'check',\n",
       " 806: 'fall',\n",
       " 807: 'period',\n",
       " 808: 'season',\n",
       " 809: 'form',\n",
       " 810: 'certain',\n",
       " 811: 'filmed',\n",
       " 812: 'weak',\n",
       " 813: 'soundtrack',\n",
       " 814: 'means',\n",
       " 815: 'buy',\n",
       " 816: 'material',\n",
       " 817: 'somehow',\n",
       " 818: 'realistic',\n",
       " 819: 'figure',\n",
       " 820: 'crime',\n",
       " 821: 'doubt',\n",
       " 822: 'gone',\n",
       " 823: 'peter',\n",
       " 824: 'tom',\n",
       " 825: 'kept',\n",
       " 826: 'viewing',\n",
       " 827: 't',\n",
       " 828: 'general',\n",
       " 829: 'leads',\n",
       " 830: 'greatest',\n",
       " 831: 'space',\n",
       " 832: 'lame',\n",
       " 833: 'suspense',\n",
       " 834: 'dance',\n",
       " 835: 'imagine',\n",
       " 836: 'brought',\n",
       " 837: 'third',\n",
       " 838: 'atmosphere',\n",
       " 839: 'hear',\n",
       " 840: 'particular',\n",
       " 841: 'sequences',\n",
       " 842: 'whatever',\n",
       " 843: 'parents',\n",
       " 844: 'move',\n",
       " 845: 'lee',\n",
       " 846: 'indeed',\n",
       " 847: 'learn',\n",
       " 848: 'rent',\n",
       " 849: 'de',\n",
       " 850: 'eventually',\n",
       " 851: 'note',\n",
       " 852: 'deal',\n",
       " 853: 'average',\n",
       " 854: 'reviews',\n",
       " 855: 'wait',\n",
       " 856: 'forget',\n",
       " 857: 'japanese',\n",
       " 858: 'sexual',\n",
       " 859: 'poorly',\n",
       " 860: 'premise',\n",
       " 861: 'okay',\n",
       " 862: 'zombie',\n",
       " 863: 'surprise',\n",
       " 864: 'believable',\n",
       " 865: 'stage',\n",
       " 866: 'possibly',\n",
       " 867: 'sit',\n",
       " 868: \"who's\",\n",
       " 869: 'decided',\n",
       " 870: 'expected',\n",
       " 871: \"you've\",\n",
       " 872: 'subject',\n",
       " 873: 'nature',\n",
       " 874: 'became',\n",
       " 875: 'difficult',\n",
       " 876: 'free',\n",
       " 877: 'killing',\n",
       " 878: 'screenplay',\n",
       " 879: 'truth',\n",
       " 880: 'romance',\n",
       " 881: 'dr',\n",
       " 882: 'nor',\n",
       " 883: 'reading',\n",
       " 884: 'needed',\n",
       " 885: 'question',\n",
       " 886: 'leaves',\n",
       " 887: 'street',\n",
       " 888: '20',\n",
       " 889: 'meets',\n",
       " 890: 'hot',\n",
       " 891: 'unless',\n",
       " 892: 'begin',\n",
       " 893: 'baby',\n",
       " 894: 'superb',\n",
       " 895: 'credits',\n",
       " 896: 'imdb',\n",
       " 897: 'otherwise',\n",
       " 898: 'write',\n",
       " 899: 'shame',\n",
       " 900: \"let's\",\n",
       " 901: 'situation',\n",
       " 902: 'dramatic',\n",
       " 903: 'memorable',\n",
       " 904: 'directors',\n",
       " 905: 'earlier',\n",
       " 906: 'meet',\n",
       " 907: 'disney',\n",
       " 908: 'open',\n",
       " 909: 'dog',\n",
       " 910: 'badly',\n",
       " 911: 'joe',\n",
       " 912: 'male',\n",
       " 913: 'weird',\n",
       " 914: 'acted',\n",
       " 915: 'forced',\n",
       " 916: 'laughs',\n",
       " 917: 'sci',\n",
       " 918: 'emotional',\n",
       " 919: 'older',\n",
       " 920: 'realize',\n",
       " 921: 'fi',\n",
       " 922: 'dream',\n",
       " 923: 'society',\n",
       " 924: 'writers',\n",
       " 925: 'interested',\n",
       " 926: 'footage',\n",
       " 927: 'forward',\n",
       " 928: 'comment',\n",
       " 929: 'crazy',\n",
       " 930: 'deep',\n",
       " 931: 'sounds',\n",
       " 932: 'plus',\n",
       " 933: 'beauty',\n",
       " 934: 'whom',\n",
       " 935: 'america',\n",
       " 936: 'fantasy',\n",
       " 937: 'directing',\n",
       " 938: 'keeps',\n",
       " 939: 'ask',\n",
       " 940: 'development',\n",
       " 941: 'features',\n",
       " 942: 'air',\n",
       " 943: 'quickly',\n",
       " 944: 'mess',\n",
       " 945: 'creepy',\n",
       " 946: 'towards',\n",
       " 947: 'perfectly',\n",
       " 948: 'mark',\n",
       " 949: 'worked',\n",
       " 950: 'box',\n",
       " 951: 'cheesy',\n",
       " 952: 'unique',\n",
       " 953: 'setting',\n",
       " 954: 'hands',\n",
       " 955: 'plenty',\n",
       " 956: 'result',\n",
       " 957: 'previous',\n",
       " 958: 'brings',\n",
       " 959: 'effect',\n",
       " 960: 'e',\n",
       " 961: 'total',\n",
       " 962: 'personal',\n",
       " 963: 'incredibly',\n",
       " 964: 'rate',\n",
       " 965: 'fire',\n",
       " 966: 'monster',\n",
       " 967: 'business',\n",
       " 968: 'leading',\n",
       " 969: 'apart',\n",
       " 970: 'casting',\n",
       " 971: 'admit',\n",
       " 972: 'joke',\n",
       " 973: 'powerful',\n",
       " 974: 'appear',\n",
       " 975: 'background',\n",
       " 976: 'telling',\n",
       " 977: 'girlfriend',\n",
       " 978: 'meant',\n",
       " 979: 'christmas',\n",
       " 980: 'hardly',\n",
       " 981: 'present',\n",
       " 982: 'battle',\n",
       " 983: 'potential',\n",
       " 984: 'create',\n",
       " 985: 'bill',\n",
       " 986: 'break',\n",
       " 987: 'pay',\n",
       " 988: 'masterpiece',\n",
       " 989: 'gay',\n",
       " 990: 'political',\n",
       " 991: 'return',\n",
       " 992: 'dumb',\n",
       " 993: 'fails',\n",
       " 994: 'fighting',\n",
       " 995: 'various',\n",
       " 996: 'era',\n",
       " 997: 'portrayed',\n",
       " 998: 'co',\n",
       " 999: 'cop',\n",
       " 1000: 'secret',\n",
       " ...}"
      ]
     },
     "execution_count": 19,
     "metadata": {},
     "output_type": "execute_result"
    }
   ],
   "source": [
    "idx2word"
   ]
  },
  {
   "cell_type": "markdown",
   "metadata": {
    "deletable": true,
    "editable": true
   },
   "source": [
    "We download the reviews using code copied from keras.datasets:"
   ]
  },
  {
   "cell_type": "code",
   "execution_count": 23,
   "metadata": {
    "collapsed": false,
    "deletable": true,
    "editable": true
   },
   "outputs": [
    {
     "name": "stdout",
     "output_type": "stream",
     "text": [
      "Downloading data from https://s3.amazonaws.com/text-datasets/imdb_full.pkl\n",
      "64978944/65552540 [============================>.] - ETA: 0s   \b\b\b\b\b\b\b\b\b\b\b\b\b\b\b\b\b\b\b\b\b\b\b\b\b\b\b\b\b\b\b\b\b\b\b\b\b\b\b\b\b\b\b\b\b\b\b\b\b\b\b\b\b\b\b\b\b\b\b\b\b\b\b\b\b\b\b\b\b\b\b\b\b\b\b\b\b\b\b\b\b\b\b\b\b\b\b\b\b\b\b\b\b\b\b\b\b\b\b\b\b\b\b\b\b\b\b\b\b\b\b\b\b\b\b\b\b\b\b\b\b\b\b\b\b\b\b\b\b\b\b\b\b\b\b\b\b\b\b\b\b\b\b\b\b\b\b\b\b\b\b\b\b\b\b\b\b\b\b\b\b\b\b\b\b\b\b\b\b\b\b\b\b\b\b\b\b\b\b\b\b\b\b\b\b\b\b\b\b\b\b\b\b\b\b\b\b\b\b\b\b\b\b\b\b\b\b\b\b\b\b\b\b\b\b\b\b\b\b\b\b\b\b\b\b\b\b\b\b\b\b\b\b\b\b\b\b\b\b\b\b\b\b\b\b\b\b\b\b\b\b\b\b\b\b\b\b\b\b\b\b\b\b\b\b\b\b\b\b\b\b\b\b\b\b\b\b\b\b\b\b\b\b\b\b\b\b\b\b\b\b\b\b\b\b\b\b\b\b\b\b\b\b\b\b\b\b\b\b\b\b\b\b\b\b\b\b\b\b\b\b\b\b\b\b\b\b\b\b\b\b\b\b\b\b\b\b\b\b\b\b\b\b\b\b\b\b\b\b\b\b\b\b\b\b\b\b\b\b\b\b\b\b\b\b\b\b\b\b\b\b\b\b\b\b\b\b\b\b\b\b\b\b\b\b\b\b\b\b\b\b\b\b\b\b\b\b\b\b\b\b\b\b\b\b\b\b\b\b\b\b\b\b\b\b\b\b\b\b\b\b\b\b\b\b\b\b\b\b\b\b\b\b\b\b\b\b\b\b\b\b\b\b\b\b\b\b\b\b\b\b\b\b\b\b\b\b\b\b\b\b\b\b\b\b\b\b\b\b\b\b\b\b\b\b\b\b\b\b\b\b\b\b\b\b\b\b\b\b\b\b\b\b\b\b\b\b\b\b\b\b\b\b\b\b\b\b\b\b\b\b\b\b\b\b\b\b\b\b\b\b\b\b\b\b\b\b\b\b\b\b\b\b\b\b\b\b\b\b\b\b\b\b\b\b\b\b\b\b\b\b\b\b\b\b\b\b\b\b\b\b\b\b\b\b\b\b\b\b\b\b\b\b\b\b\b\b\b\b\b\b\b\b\b\b\b\b\b\b\b\b\b\b\b\b\b\b\b\b\b\b\b\b\b\b\b\b\b\b\b\b\b\b\b\b\b\b\b\b\b\b\b\b\b\b\b\b\b\b\b\b\b\b\b\b\b\b\b\b\b\b\b\b\b\b\b\b\b\b\b\b\b\b\b\b\b\b\b\b\b\b\b\b\b\b\b\b\b\b\b\b\b\b\b\b\b\b\b\b\b\b\b\b\b\b\b\b\b\b\b\b\b\b\b\b\b\b\b\b\b\b\b\b\b\b\b\b\b\b\b\b\b\b\b\b\b\b\b\b\b\b\b\b\b\b\b\b\b\b\b\b\b\b\b\b\b\b\b\b\b\b\b\b\b\b\b\b\b\b\b\b\b\b\b\b\b\b\b\b\b\b\b\b\b\b\b\b\b\b\b\b\b\b\b\b\b\b\b\b\b\b\b\b\b\b\b\b\b\b\b\b\b\b\b\b\b\b\b\b\b\b\b\b\b\b\b\b\b\b\b\b\b\b\b\b\b\b\b\b\b\b\b\b\b\b\b\b\b\b\b\b\b\b\b\b\b\b\b\b\b\b\b\b\b\b\b\b\b\b\b\b\b\b\b\b\b\b\b\b\b\b\b\b\b\b\b\b\b\b\b\b\b\b\b\b\b\b\b\b\b\b\b\b\b\b\b\b\b\b\b\b\b\b\b\b\b\b\b\b\b\b\b\b\b\b\b\b\b\b\b\b\b\b\b\b\b\b\b\b\b\b\b\b\b\b\b\b\b\b\b\b\b\b\b\b\b\b\b\b\b\b\b\b\b\b\b\b\b\b\b\b\b\b\b\b\b\b\b\b\b\b\b\b\b\b\b\b\b\b\b\b\b\b\b\b\b\b\b\b\b\b\b\b\b\b\b\b\b\b\b\b\b\b\b\b\b\b\b\b\b\b\b\b\b\b\b\b\b\b\b\b\b\b\b\b\b\b\b\b\b\b\b\b\b\b\b\b\b\b\b\b\b\b\b\b\b\b\b\b\b\b\b\b\b\b\b\b\b\b\b\b\b\b\b\b\b\b\b\b\b\b\b\b\b\b\b\b\b\b\b\b\b\b\b\b\b\b\b\b\b\b\b\b\b\b\b\b\b\b\b\b\b\b\b\b\b\b\b\b\b\b\b\b\b\b\b\b\b\b\b\b\b\b\b\b\b\b\b\b\b\b\b\b\b\b\b\b\b\b\b\b\b\b\b\b\b\b\b\b\b\b\b\b\b\b\b\b\b\b\b\b\b\b\b\b\b\b\b\b\b\b\b\b\b\b\b\b\b\b\b\b\b\b\b\b\b\b\b\b\b\b\b\b\b\b\b\b\b\b\b\b\b\b\b\b\b\b\b\b\b\b\b\b\b\b\b\b\b\b\b\b\b\b\b\b\b\b\b\b\b\b\b\b\b\b\b\b\b\b\b\b\b\b\b\b\b\b\b\b\b\b\b\b\b\b\b\b\b\b\b\b\b\b\b\b\b\b\b\b\b\b\b\b\b\b\b\b\b\b\b\b\b\b\b\b\b\b\b\b\b\b\b\b\b\b\b\b\b\b\b\b\b\b\b\b\b\b\b\b\b\b\b\b\b\b\b\b\b\b\b\b\b\b\b\b\b\b\b\b\b\b\b\b\b\b\b\b\b\b\b\b\b\b\b\b\b\b\b\b\b\b\b\b\b\b\b\b\b\b\b\b\b\b\b\b\b\b\b\b\b\b\b\b\b\b\b\b\b\b\b\b\b\b\b\b\b\b\b\b\b\b\b\b\b\b\b\b\b\b\b\b\b\b\b\b\b\b\b\b\b\b\b\b\b\b\b\b\b\b\b\b\b\b\b\b\b\b\b\b\b\b\b\b\b\b\b\b\b\b\b\b\b\b\b\b\b\b\b\b\b\b\b\b\b\b\b\b\b\b\b\b\b\b\b\b\b\b\b\b\b\b\b\b\b\b\b\b\b\b\b\b\b\b\b\b\b\b\b\b\b\b\b\b\b\b\b\b\b\b\b\b\b\b\b\b\b\b\b\b\b\b\b\b\b\b\b\b\b\b\b\b\b\b\b\b\b\b\b\b\b\b\b\b\b\b\b\b\b\b\b\b\b\b\b\b\b\b\b\b\b\b\b\b\b\b\b\b\b\b\b\b\b\b\b\b\b\b\b\b\b\b\b\b\b\b\b\b\b\b\b\b\b\b\b\b\b\b\b\b\b\b\b\b\b\b\b\b\b\b\b\b\b\b\b\b\b\b\b\b\b\b\b\b\b\b\b\b\b\b\b\b\b\b\b\b\b\b\b\b\b\b\b\b\b\b\b\b\b\b\b\b\b\b\b\b\b\b\b\b\b\b\b\b\b\b\b\b\b\b\b\b\b\b\b\b\b\b\b\b\b\b\b\b\b\b\b\b\b\b\b\b\b\b\b\b\b\b\b\b\b\b\b\b\b\b\b\b\b\b\b\b\b\b\b\b\b\b\b\b\b\b\b\b\b\b\b\b\b\b\b\b\b\b\b\b\b\b\b\b\b\b\b\b\b\b\b\b\b\b\b\b\b\b\b\b\b\b\b\b\b\b\b\b\b\b\b\b\b\b\b\b\b\b\b\b\b\b\b\b\b\b\b\b\b\b\b\b\b\b\b\b\b\b\b\b\b\b\b\b\b\b\b\b\b\b\b\b\b\b\b\b\b\b\b\b\b\b\b\b\b\b\b\b\b\b\b\b\b\b\b\b\b\b\b\b\b\b\b\b\b\b\b\b\b\b\b\b\b\b\b\b\b\b\b\b\b\b\b\b\b\b\b\b\b\b\b\b\b\b\b\b\b\b\b\b\b\b\b\b\b\b\b\b\b\b\b\b\b\b\b\b\b\b\b\b\b\b\b\b\b\b\b\b\b\b\b\b\b\b\b\b\b\b\b\b\b\b\b\b\b\b\b\b\b\b\b\b\b\b\b\b\b\b\b\b\b\b\b\b\b\b\b\b\b\b\b\b\b\b\b\b\b\b\b\b\b\b\b\b\b\b\b\b\b\b\b\b\b\b\b\b\b\b\b\b\b\b\b\b\b\b\b\b\b\b\b\b\b\b\b\b\b\b\b\b\b\b\b\b\b\b\b\b\b\b\b\b\b\b\b\b\b\b\b\b\b\b\b\b\b\b\b\b\b\b\b\b\b\b\b\b\b\b\b\b\b\b\b\b\b\b\b\b\b\b\b\b\b\b\b\b\b\b\b\b\b\b\b\b\b\b\b\b\b\b\b\b\b\b\b\b\b\b\b\b\b\b\b\b\b\b\b\b\b\b\b\b\b\b\b\b\b\b\b\b\b\b\b\b\b\b\b\b\b\b\b\b\b\b\b\b\b\b\b\b\b\b\b\b\b\b\b\b\b\b\b\b\b\b\b\b\b\b\b\b\b\b\b\b\b\b\b\b\b\b\b\b\b\b\b\b\b\b\b\b\b\b\b\b\b\b\b\b\b\b\b"
     ]
    }
   ],
   "source": [
    "path = get_file('imdb_full.pkl',\n",
    "                origin='https://s3.amazonaws.com/text-datasets/imdb_full.pkl',\n",
    "                md5_hash='d091312047c43cf9e4e38fef92437263')\n",
    "f = open(path, 'rb')\n",
    "(x_train, labels_train), (x_test, labels_test) = pickle.load(f)"
   ]
  },
  {
   "cell_type": "code",
   "execution_count": null,
   "metadata": {
    "collapsed": false
   },
   "outputs": [],
   "source": []
  },
  {
   "cell_type": "code",
   "execution_count": 24,
   "metadata": {
    "collapsed": false,
    "deletable": true,
    "editable": true
   },
   "outputs": [
    {
     "data": {
      "text/plain": [
       "25000"
      ]
     },
     "execution_count": 24,
     "metadata": {},
     "output_type": "execute_result"
    }
   ],
   "source": [
    "len(x_train)"
   ]
  },
  {
   "cell_type": "markdown",
   "metadata": {
    "deletable": true,
    "editable": true
   },
   "source": [
    "Here's the 1st review. As you see, the words have been replaced by ids. The ids can be looked up in idx2word."
   ]
  },
  {
   "cell_type": "code",
   "execution_count": 28,
   "metadata": {
    "collapsed": false,
    "deletable": true,
    "editable": true
   },
   "outputs": [
    {
     "data": {
      "text/plain": [
       "'23022, 309, 6, 3, 1069, 209, 9, 2175, 30, 1, 169, 55, 14, 46, 82, 5869, 41, 393, 110, 138, 14, 5359, 58, 4477, 150, 8, 1, 5032, 5948, 482, 69, 5, 261, 12, 23022, 73935, 2003, 6, 73, 2436, 5, 632, 71, 6, 5359, 1, 25279, 5, 2004, 10471, 1, 5941, 1534, 34, 67, 64, 205, 140, 65, 1232, 63526, 21145, 1, 49265, 4, 1, 223, 901, 29, 3024, 69, 4, 1, 5863, 10, 694, 2, 65, 1534, 51, 10, 216, 1, 387, 8, 60, 3, 1472, 3724, 802, 5, 3521, 177, 1, 393, 10, 1238, 14030, 30, 309, 3, 353, 344, 2989, 143, 130, 5, 7804, 28, 4, 126, 5359, 1472, 2375, 5, 23022, 309, 10, 532, 12, 108, 1470, 4, 58, 556, 101, 12, 23022, 309, 6, 227, 4187, 48, 3, 2237, 12, 9, 215'"
      ]
     },
     "execution_count": 28,
     "metadata": {},
     "output_type": "execute_result"
    }
   ],
   "source": [
    "', '.join(map(str, x_train[0]))"
   ]
  },
  {
   "cell_type": "markdown",
   "metadata": {
    "deletable": true,
    "editable": true
   },
   "source": [
    "The first word of the first review is 23022. Let's see what that is."
   ]
  },
  {
   "cell_type": "code",
   "execution_count": 35,
   "metadata": {
    "collapsed": false,
    "deletable": true,
    "editable": true
   },
   "outputs": [
    {
     "data": {
      "text/plain": [
       "'bromwell'"
      ]
     },
     "execution_count": 35,
     "metadata": {},
     "output_type": "execute_result"
    }
   ],
   "source": [
    "idx2word[23022]"
   ]
  },
  {
   "cell_type": "markdown",
   "metadata": {
    "deletable": true,
    "editable": true
   },
   "source": [
    "Here's the whole review, mapped from ids to words."
   ]
  },
  {
   "cell_type": "code",
   "execution_count": 36,
   "metadata": {
    "collapsed": false,
    "deletable": true,
    "editable": true,
    "scrolled": true
   },
   "outputs": [
    {
     "data": {
      "text/plain": [
       "\"bromwell high is a cartoon comedy it ran at the same time as some other programs about school life such as teachers my 35 years in the teaching profession lead me to believe that bromwell high's satire is much closer to reality than is teachers the scramble to survive financially the insightful students who can see right through their pathetic teachers' pomp the pettiness of the whole situation all remind me of the schools i knew and their students when i saw the episode in which a student repeatedly tried to burn down the school i immediately recalled at high a classic line inspector i'm here to sack one of your teachers student welcome to bromwell high i expect that many adults of my age think that bromwell high is far fetched what a pity that it isn't\""
      ]
     },
     "execution_count": 36,
     "metadata": {},
     "output_type": "execute_result"
    }
   ],
   "source": [
    "' '.join([idx2word[o] for o in x_train[0]])"
   ]
  },
  {
   "cell_type": "markdown",
   "metadata": {
    "deletable": true,
    "editable": true
   },
   "source": [
    "The labels are 1 for positive, 0 for negative."
   ]
  },
  {
   "cell_type": "code",
   "execution_count": 37,
   "metadata": {
    "collapsed": false,
    "deletable": true,
    "editable": true
   },
   "outputs": [
    {
     "data": {
      "text/plain": [
       "[1, 1, 1, 1, 1, 1, 1, 1, 1, 1]"
      ]
     },
     "execution_count": 37,
     "metadata": {},
     "output_type": "execute_result"
    }
   ],
   "source": [
    "labels_train[:10]"
   ]
  },
  {
   "cell_type": "markdown",
   "metadata": {
    "deletable": true,
    "editable": true
   },
   "source": [
    "Reduce vocab size by setting rare words to max index."
   ]
  },
  {
   "cell_type": "code",
   "execution_count": 74,
   "metadata": {
    "collapsed": true,
    "deletable": true,
    "editable": true
   },
   "outputs": [],
   "source": [
    "vocab_size = 5000\n",
    "\n",
    "trn = [np.array([i if i<vocab_size-1 else vocab_size-1 for i in s]) for s in x_train]\n",
    "test = [np.array([i if i<vocab_size-1 else vocab_size-1 for i in s]) for s in x_test]"
   ]
  },
  {
   "cell_type": "code",
   "execution_count": 75,
   "metadata": {
    "collapsed": false
   },
   "outputs": [
    {
     "data": {
      "text/plain": [
       "433"
      ]
     },
     "execution_count": 75,
     "metadata": {},
     "output_type": "execute_result"
    }
   ],
   "source": [
    "trn[:1]\n",
    "len(trn[1])"
   ]
  },
  {
   "cell_type": "markdown",
   "metadata": {
    "deletable": true,
    "editable": true
   },
   "source": [
    "Look at distribution of lengths of sentences."
   ]
  },
  {
   "cell_type": "code",
   "execution_count": 76,
   "metadata": {
    "collapsed": false,
    "deletable": true,
    "editable": true,
    "scrolled": true
   },
   "outputs": [
    {
     "name": "stdout",
     "output_type": "stream",
     "text": [
      "[ 138.  433.  149.  124.  121.  181.  111.  343.  448.  327.]\n"
     ]
    },
    {
     "data": {
      "text/plain": [
       "(2493.0, 10.0, 237.71364)"
      ]
     },
     "execution_count": 76,
     "metadata": {},
     "output_type": "execute_result"
    }
   ],
   "source": [
    "lens = np.array(map(len, trn))\n",
    "lens=np.array([i for i in map(len, trn)],dtype=np.float32)\n",
    "print(lens[:10])\n",
    "(lens.max(), lens.min(), lens.mean())"
   ]
  },
  {
   "cell_type": "markdown",
   "metadata": {
    "deletable": true,
    "editable": true
   },
   "source": [
    "Pad (with zero) or truncate each sentence to make consistent length."
   ]
  },
  {
   "cell_type": "code",
   "execution_count": 77,
   "metadata": {
    "collapsed": true,
    "deletable": true,
    "editable": true
   },
   "outputs": [],
   "source": [
    "seq_len = 500\n",
    "\n",
    "trn = sequence.pad_sequences(trn, maxlen=seq_len, value=0)\n",
    "test = sequence.pad_sequences(test, maxlen=seq_len, value=0)"
   ]
  },
  {
   "cell_type": "markdown",
   "metadata": {
    "deletable": true,
    "editable": true
   },
   "source": [
    "This results in nice rectangular matrices that can be passed to ML algorithms. Reviews shorter than 500 words are pre-padded with zeros, those greater are truncated."
   ]
  },
  {
   "cell_type": "code",
   "execution_count": 32,
   "metadata": {
    "collapsed": false,
    "deletable": true,
    "editable": true,
    "scrolled": false
   },
   "outputs": [
    {
     "data": {
      "text/plain": [
       "(25000, 500)"
      ]
     },
     "execution_count": 32,
     "metadata": {},
     "output_type": "execute_result"
    }
   ],
   "source": [
    "trn.shape"
   ]
  },
  {
   "cell_type": "markdown",
   "metadata": {
    "deletable": true,
    "editable": true
   },
   "source": [
    "## Create simple models"
   ]
  },
  {
   "cell_type": "markdown",
   "metadata": {
    "deletable": true,
    "editable": true
   },
   "source": [
    "### Single hidden layer NN"
   ]
  },
  {
   "cell_type": "markdown",
   "metadata": {
    "deletable": true,
    "editable": true
   },
   "source": [
    "The simplest model that tends to give reasonable results is a single hidden layer net. So let's try that. Note that we can't expect to get any useful results by feeding word ids directly into a neural net - so instead we use an embedding to replace them with a vector of 32 (initially random) floats for each word in the vocab."
   ]
  },
  {
   "cell_type": "code",
   "execution_count": 78,
   "metadata": {
    "collapsed": false,
    "deletable": true,
    "editable": true
   },
   "outputs": [],
   "source": [
    "model = Sequential([\n",
    "    Embedding(vocab_size, 32, input_length=seq_len),\n",
    "    Flatten(),\n",
    "    Dense(100, activation='relu'),\n",
    "    Dropout(0.7),\n",
    "    Dense(1, activation='sigmoid')])"
   ]
  },
  {
   "cell_type": "code",
   "execution_count": 79,
   "metadata": {
    "collapsed": false,
    "deletable": true,
    "editable": true,
    "scrolled": true
   },
   "outputs": [
    {
     "name": "stdout",
     "output_type": "stream",
     "text": [
      "____________________________________________________________________________________________________\n",
      "Layer (type)                     Output Shape          Param #     Connected to                     \n",
      "====================================================================================================\n",
      "embedding_1 (Embedding)          (None, 500, 32)       160000      embedding_input_1[0][0]          \n",
      "____________________________________________________________________________________________________\n",
      "flatten_1 (Flatten)              (None, 16000)         0           embedding_1[0][0]                \n",
      "____________________________________________________________________________________________________\n",
      "dense_1 (Dense)                  (None, 100)           1600100     flatten_1[0][0]                  \n",
      "____________________________________________________________________________________________________\n",
      "dropout_1 (Dropout)              (None, 100)           0           dense_1[0][0]                    \n",
      "____________________________________________________________________________________________________\n",
      "dense_2 (Dense)                  (None, 1)             101         dropout_1[0][0]                  \n",
      "====================================================================================================\n",
      "Total params: 1760201\n",
      "____________________________________________________________________________________________________\n"
     ]
    }
   ],
   "source": [
    "model.compile(loss='binary_crossentropy', optimizer=Adam(), metrics=['accuracy'])\n",
    "model.summary()"
   ]
  },
  {
   "cell_type": "code",
   "execution_count": null,
   "metadata": {
    "collapsed": true
   },
   "outputs": [],
   "source": []
  },
  {
   "cell_type": "code",
   "execution_count": 80,
   "metadata": {
    "collapsed": false,
    "deletable": true,
    "editable": true
   },
   "outputs": [
    {
     "name": "stdout",
     "output_type": "stream",
     "text": [
      "Train on 25000 samples, validate on 25000 samples\n",
      "Epoch 1/2\n",
      "25000/25000 [==============================] - 2s - loss: 0.5008 - acc: 0.7162 - val_loss: 0.3059 - val_acc: 0.8676\b\b\b\b\b\b\b\b\b\b\b\b\b\b\b\b\b\b\b\b\b\b\b\b\b\b\b\b\b\b\b\b\b\b\b\b\b\b\b\b\b\b\b\b\b\b\b\b\b\b\b\b\b\b\b\b\b\b\b\b\b\b\b\b\b\b\b\b\b\b\b\b\b\b\b\b\b\b\b\b\b\b\b\b\b\b\b\b\b\b\b\b\b\b\b\b\b\b\b\b\b\b\b\b\b\b\b\b\b\b\b\b\b\b\b\b\b\b\b\b\b\b\b\b\b\b\b\b\b\b\b\b\b\b\n",
      "Epoch 2/2\n",
      "25000/25000 [==============================] - 2s - loss: 0.2101 - acc: 0.9207 - val_loss: 0.3084 - val_acc: 0.8722\b\b\b\b\b\b\b\b\b\b\b\b\b\b\b\b\b\b\b\b\b\b\b\b\b\b\b\b\b\b\b\b\b\b\b\b\b\b\b\b\b\b\b\b\b\b\b\b\b\b\b\b\b\b\b\b\b\b\b\b\b\b\b\b\b\b\b\b\b\b\b\b\b\b\b\b\b\b\b\b\b\b\b\b\b\b\b\b\b\b\b\b\b\b\b\b\b\b\b\b\b\b\b\b\b\b\b\b\b\b\b\b\b\b\b\b\b\b\b\b\b\b\b\b\b\b\b\b\b\b\b\b\b\b\n"
     ]
    },
    {
     "data": {
      "text/plain": [
       "<keras.callbacks.History at 0x7fd8470a26d8>"
      ]
     },
     "execution_count": 80,
     "metadata": {},
     "output_type": "execute_result"
    }
   ],
   "source": [
    "model.fit(trn, labels_train, validation_data=(test, labels_test), nb_epoch=2, batch_size=64)"
   ]
  },
  {
   "cell_type": "markdown",
   "metadata": {
    "deletable": true,
    "editable": true
   },
   "source": [
    "The [stanford paper](http://ai.stanford.edu/~amaas/papers/wvSent_acl2011.pdf) that this dataset is from cites a state of the art accuracy (without unlabelled data) of 0.883. So we're short of that, but on the right track."
   ]
  },
  {
   "cell_type": "markdown",
   "metadata": {
    "deletable": true,
    "editable": true,
    "heading_collapsed": true
   },
   "source": [
    "### Single conv layer with max pooling"
   ]
  },
  {
   "cell_type": "markdown",
   "metadata": {
    "deletable": true,
    "editable": true,
    "hidden": true
   },
   "source": [
    "A CNN is likely to work better, since it's designed to take advantage of ordered data. We'll need to use a 1D CNN, since a sequence of words is 1D."
   ]
  },
  {
   "cell_type": "code",
   "execution_count": 37,
   "metadata": {
    "collapsed": false,
    "deletable": true,
    "editable": true,
    "hidden": true
   },
   "outputs": [],
   "source": [
    "conv1 = Sequential([\n",
    "    Embedding(vocab_size, 32, input_length=seq_len, dropout=0.2),\n",
    "    Dropout(0.2),\n",
    "    Convolution1D(64, 5, border_mode='same', activation='relu'),\n",
    "    Dropout(0.2),\n",
    "    MaxPooling1D(),\n",
    "    Flatten(),\n",
    "    Dense(100, activation='relu'),\n",
    "    Dropout(0.7),\n",
    "    Dense(1, activation='sigmoid')])"
   ]
  },
  {
   "cell_type": "code",
   "execution_count": 45,
   "metadata": {
    "collapsed": true,
    "deletable": true,
    "editable": true,
    "hidden": true
   },
   "outputs": [],
   "source": [
    "conv1.compile(loss='binary_crossentropy', optimizer=Adam(), metrics=['accuracy'])"
   ]
  },
  {
   "cell_type": "code",
   "execution_count": 278,
   "metadata": {
    "collapsed": false,
    "deletable": true,
    "editable": true,
    "hidden": true,
    "scrolled": false
   },
   "outputs": [
    {
     "name": "stdout",
     "output_type": "stream",
     "text": [
      "Train on 25000 samples, validate on 25000 samples\n",
      "Epoch 1/4\n",
      "25000/25000 [==============================] - 4s - loss: 0.4984 - acc: 0.7250 - val_loss: 0.2922 - val_acc: 0.8816\n",
      "Epoch 2/4\n",
      "25000/25000 [==============================] - 4s - loss: 0.2971 - acc: 0.8836 - val_loss: 0.2681 - val_acc: 0.8911\n",
      "Epoch 3/4\n",
      "25000/25000 [==============================] - 4s - loss: 0.2568 - acc: 0.8983 - val_loss: 0.2551 - val_acc: 0.8947\n",
      "Epoch 4/4\n",
      "25000/25000 [==============================] - 4s - loss: 0.2427 - acc: 0.9029 - val_loss: 0.2558 - val_acc: 0.8947\n"
     ]
    },
    {
     "data": {
      "text/plain": [
       "<keras.callbacks.History at 0x7f99cfa785d0>"
      ]
     },
     "execution_count": 278,
     "metadata": {},
     "output_type": "execute_result"
    }
   ],
   "source": [
    "conv1.fit(trn, labels_train, validation_data=(test, labels_test), nb_epoch=4, batch_size=64)"
   ]
  },
  {
   "cell_type": "markdown",
   "metadata": {
    "deletable": true,
    "editable": true,
    "hidden": true
   },
   "source": [
    "That's well past the Stanford paper's accuracy - another win for CNNs!"
   ]
  },
  {
   "cell_type": "code",
   "execution_count": 281,
   "metadata": {
    "collapsed": true,
    "deletable": true,
    "editable": true,
    "hidden": true
   },
   "outputs": [],
   "source": [
    "conv1.save_weights(model_path + 'conv1.h5')"
   ]
  },
  {
   "cell_type": "code",
   "execution_count": 46,
   "metadata": {
    "collapsed": true,
    "deletable": true,
    "editable": true,
    "hidden": true
   },
   "outputs": [],
   "source": [
    "conv1.load_weights(model_path + 'conv1.h5')"
   ]
  },
  {
   "cell_type": "markdown",
   "metadata": {
    "deletable": true,
    "editable": true,
    "heading_collapsed": true
   },
   "source": [
    "## Pre-trained vectors"
   ]
  },
  {
   "cell_type": "markdown",
   "metadata": {
    "deletable": true,
    "editable": true,
    "hidden": true
   },
   "source": [
    "You may want to look at wordvectors.ipynb before moving on.\n",
    "\n",
    "In this section, we replicate the previous CNN, but using pre-trained embeddings."
   ]
  },
  {
   "cell_type": "code",
   "execution_count": 17,
   "metadata": {
    "collapsed": true,
    "deletable": true,
    "editable": true,
    "hidden": true
   },
   "outputs": [],
   "source": [
    "def load_vectors(loc):\n",
    "    return (load_array(loc+'.dat'),\n",
    "        pickle.load(open(loc+'_words.pkl','rb')),\n",
    "        pickle.load(open(loc+'_idx.pkl','rb')))"
   ]
  },
  {
   "cell_type": "code",
   "execution_count": 18,
   "metadata": {
    "collapsed": false,
    "deletable": true,
    "editable": true,
    "hidden": true
   },
   "outputs": [],
   "source": [
    "vecs, words, wordidx = load_vectors('data/glove/results/6B.50d')"
   ]
  },
  {
   "cell_type": "markdown",
   "metadata": {
    "deletable": true,
    "editable": true,
    "hidden": true
   },
   "source": [
    "The glove word ids and imdb word ids use different indexes. So we create a simple function that creates an embedding matrix using the indexes from imdb, and the embeddings from glove (where they exist)."
   ]
  },
  {
   "cell_type": "code",
   "execution_count": 73,
   "metadata": {
    "collapsed": false,
    "deletable": true,
    "editable": true,
    "hidden": true
   },
   "outputs": [],
   "source": [
    "def create_emb():\n",
    "    n_fact = vecs.shape[1]\n",
    "    emb = np.zeros((vocab_size, n_fact))\n",
    "\n",
    "    for i in range(1,len(emb)):\n",
    "        word = idx2word[i]\n",
    "        if word and re.match(r\"^[a-zA-Z0-9\\-]*$\", word):\n",
    "            src_idx = wordidx[word]\n",
    "            emb[i] = vecs[src_idx]\n",
    "        else:\n",
    "            # If we can't find the word in glove, randomly initialize\n",
    "            emb[i] = normal(scale=0.6, size=(n_fact,))\n",
    "\n",
    "    # This is our \"rare word\" id - we want to randomly initialize\n",
    "    emb[-1] = normal(scale=0.6, size=(n_fact,))\n",
    "    emb/=3\n",
    "    return emb"
   ]
  },
  {
   "cell_type": "code",
   "execution_count": 21,
   "metadata": {
    "collapsed": true,
    "deletable": true,
    "editable": true,
    "hidden": true
   },
   "outputs": [],
   "source": [
    "emb = create_emb()"
   ]
  },
  {
   "cell_type": "markdown",
   "metadata": {
    "deletable": true,
    "editable": true,
    "hidden": true
   },
   "source": [
    "We pass our embedding matrix to the Embedding constructor, and set it to non-trainable."
   ]
  },
  {
   "cell_type": "code",
   "execution_count": 87,
   "metadata": {
    "collapsed": false,
    "deletable": true,
    "editable": true,
    "hidden": true
   },
   "outputs": [],
   "source": [
    "model = Sequential([\n",
    "    Embedding(vocab_size, 50, input_length=seq_len, dropout=0.2, \n",
    "              weights=[emb], trainable=False),\n",
    "    Dropout(0.25),\n",
    "    Convolution1D(64, 5, border_mode='same', activation='relu'),\n",
    "    Dropout(0.25),\n",
    "    MaxPooling1D(),\n",
    "    Flatten(),\n",
    "    Dense(100, activation='relu'),\n",
    "    Dropout(0.7),\n",
    "    Dense(1, activation='sigmoid')])"
   ]
  },
  {
   "cell_type": "code",
   "execution_count": 88,
   "metadata": {
    "collapsed": true,
    "deletable": true,
    "editable": true,
    "hidden": true
   },
   "outputs": [],
   "source": [
    "model.compile(loss='binary_crossentropy', optimizer=Adam(), metrics=['accuracy'])"
   ]
  },
  {
   "cell_type": "code",
   "execution_count": 90,
   "metadata": {
    "collapsed": false,
    "deletable": true,
    "editable": true,
    "hidden": true,
    "scrolled": true
   },
   "outputs": [
    {
     "name": "stdout",
     "output_type": "stream",
     "text": [
      "Train on 25000 samples, validate on 25000 samples\n",
      "Epoch 1/2\n",
      "25000/25000 [==============================] - 4s - loss: 0.5217 - acc: 0.7172 - val_loss: 0.2942 - val_acc: 0.8815\n",
      "Epoch 2/2\n",
      "25000/25000 [==============================] - 4s - loss: 0.3169 - acc: 0.8719 - val_loss: 0.2662 - val_acc: 0.8978\n"
     ]
    },
    {
     "data": {
      "text/plain": [
       "<keras.callbacks.History at 0x7f0de0f2d910>"
      ]
     },
     "execution_count": 90,
     "metadata": {},
     "output_type": "execute_result"
    }
   ],
   "source": [
    "model.fit(trn, labels_train, validation_data=(test, labels_test), nb_epoch=2, batch_size=64)"
   ]
  },
  {
   "cell_type": "markdown",
   "metadata": {
    "deletable": true,
    "editable": true,
    "hidden": true
   },
   "source": [
    "We already have beaten our previous model! But let's fine-tune the embedding weights - especially since the words we couldn't find in glove just have random embeddings."
   ]
  },
  {
   "cell_type": "code",
   "execution_count": 91,
   "metadata": {
    "collapsed": true,
    "deletable": true,
    "editable": true,
    "hidden": true
   },
   "outputs": [],
   "source": [
    "model.layers[0].trainable=True"
   ]
  },
  {
   "cell_type": "code",
   "execution_count": 92,
   "metadata": {
    "collapsed": false,
    "deletable": true,
    "editable": true,
    "hidden": true
   },
   "outputs": [],
   "source": [
    "model.optimizer.lr=1e-4"
   ]
  },
  {
   "cell_type": "code",
   "execution_count": 93,
   "metadata": {
    "collapsed": false,
    "deletable": true,
    "editable": true,
    "hidden": true,
    "scrolled": true
   },
   "outputs": [
    {
     "name": "stdout",
     "output_type": "stream",
     "text": [
      "Train on 25000 samples, validate on 25000 samples\n",
      "Epoch 1/1\n",
      "25000/25000 [==============================] - 4s - loss: 0.2751 - acc: 0.8911 - val_loss: 0.2500 - val_acc: 0.9008\n"
     ]
    },
    {
     "data": {
      "text/plain": [
       "<keras.callbacks.History at 0x7f0de0c4e0d0>"
      ]
     },
     "execution_count": 93,
     "metadata": {},
     "output_type": "execute_result"
    }
   ],
   "source": [
    "model.fit(trn, labels_train, validation_data=(test, labels_test), nb_epoch=1, batch_size=64)"
   ]
  },
  {
   "cell_type": "markdown",
   "metadata": {
    "deletable": true,
    "editable": true,
    "hidden": true
   },
   "source": [
    "As expected, that's given us a nice little boost. :)"
   ]
  },
  {
   "cell_type": "code",
   "execution_count": 94,
   "metadata": {
    "collapsed": true,
    "deletable": true,
    "editable": true,
    "hidden": true
   },
   "outputs": [],
   "source": [
    "model.save_weights(model_path+'glove50.h5')"
   ]
  },
  {
   "cell_type": "markdown",
   "metadata": {
    "deletable": true,
    "editable": true,
    "heading_collapsed": true
   },
   "source": [
    "## Multi-size CNN"
   ]
  },
  {
   "cell_type": "markdown",
   "metadata": {
    "deletable": true,
    "editable": true,
    "hidden": true
   },
   "source": [
    "This is an implementation of a multi-size CNN as shown in Ben Bowles' [excellent blog post](https://quid.com/feed/how-quid-uses-deep-learning-with-small-data)."
   ]
  },
  {
   "cell_type": "code",
   "execution_count": 23,
   "metadata": {
    "collapsed": true,
    "deletable": true,
    "editable": true,
    "hidden": true
   },
   "outputs": [],
   "source": [
    "from keras.layers import Merge"
   ]
  },
  {
   "cell_type": "markdown",
   "metadata": {
    "deletable": true,
    "editable": true,
    "hidden": true
   },
   "source": [
    "We use the functional API to create multiple conv layers of different sizes, and then concatenate them."
   ]
  },
  {
   "cell_type": "code",
   "execution_count": 132,
   "metadata": {
    "collapsed": false,
    "deletable": true,
    "editable": true,
    "hidden": true
   },
   "outputs": [],
   "source": [
    "graph_in = Input ((vocab_size, 50))\n",
    "convs = [ ] \n",
    "for fsz in range (3, 6): \n",
    "    x = Convolution1D(64, fsz, border_mode='same', activation=\"relu\")(graph_in)\n",
    "    x = MaxPooling1D()(x) \n",
    "    x = Flatten()(x) \n",
    "    convs.append(x)\n",
    "out = Merge(mode=\"concat\")(convs) \n",
    "graph = Model(graph_in, out) "
   ]
  },
  {
   "cell_type": "code",
   "execution_count": 174,
   "metadata": {
    "collapsed": true,
    "deletable": true,
    "editable": true,
    "hidden": true
   },
   "outputs": [],
   "source": [
    "emb = create_emb()"
   ]
  },
  {
   "cell_type": "markdown",
   "metadata": {
    "deletable": true,
    "editable": true,
    "hidden": true
   },
   "source": [
    "We then replace the conv/max-pool layer in our original CNN with the concatenated conv layers."
   ]
  },
  {
   "cell_type": "code",
   "execution_count": 175,
   "metadata": {
    "collapsed": false,
    "deletable": true,
    "editable": true,
    "hidden": true
   },
   "outputs": [],
   "source": [
    "model = Sequential ([\n",
    "    Embedding(vocab_size, 50, input_length=seq_len, dropout=0.2, weights=[emb]),\n",
    "    Dropout (0.2),\n",
    "    graph,\n",
    "    Dropout (0.5),\n",
    "    Dense (100, activation=\"relu\"),\n",
    "    Dropout (0.7),\n",
    "    Dense (1, activation='sigmoid')\n",
    "    ])"
   ]
  },
  {
   "cell_type": "code",
   "execution_count": 176,
   "metadata": {
    "collapsed": true,
    "deletable": true,
    "editable": true,
    "hidden": true
   },
   "outputs": [],
   "source": [
    "model.compile(loss='binary_crossentropy', optimizer=Adam(), metrics=['accuracy'])"
   ]
  },
  {
   "cell_type": "code",
   "execution_count": 177,
   "metadata": {
    "collapsed": false,
    "deletable": true,
    "editable": true,
    "hidden": true,
    "scrolled": false
   },
   "outputs": [
    {
     "name": "stdout",
     "output_type": "stream",
     "text": [
      "Train on 25000 samples, validate on 25000 samples\n",
      "Epoch 1/2\n",
      "25000/25000 [==============================] - 11s - loss: 0.3997 - acc: 0.8207 - val_loss: 0.3032 - val_acc: 0.8943\n",
      "Epoch 2/2\n",
      "25000/25000 [==============================] - 11s - loss: 0.2882 - acc: 0.8832 - val_loss: 0.2646 - val_acc: 0.9029\n"
     ]
    },
    {
     "data": {
      "text/plain": [
       "<keras.callbacks.History at 0x7f55b79b7990>"
      ]
     },
     "execution_count": 177,
     "metadata": {},
     "output_type": "execute_result"
    }
   ],
   "source": [
    "model.fit(trn, labels_train, validation_data=(test, labels_test), nb_epoch=2, batch_size=64)"
   ]
  },
  {
   "cell_type": "markdown",
   "metadata": {
    "deletable": true,
    "editable": true,
    "hidden": true
   },
   "source": [
    "Interestingly, I found that in this case I got best results when I started the embedding layer as being trainable, and then set it to non-trainable after a couple of epochs. I have no idea why!"
   ]
  },
  {
   "cell_type": "code",
   "execution_count": 178,
   "metadata": {
    "collapsed": true,
    "deletable": true,
    "editable": true,
    "hidden": true
   },
   "outputs": [],
   "source": [
    "model.layers[0].trainable=False"
   ]
  },
  {
   "cell_type": "code",
   "execution_count": 179,
   "metadata": {
    "collapsed": false,
    "deletable": true,
    "editable": true,
    "hidden": true
   },
   "outputs": [],
   "source": [
    "model.optimizer.lr=1e-5"
   ]
  },
  {
   "cell_type": "code",
   "execution_count": 180,
   "metadata": {
    "collapsed": false,
    "deletable": true,
    "editable": true,
    "hidden": true,
    "scrolled": true
   },
   "outputs": [
    {
     "name": "stdout",
     "output_type": "stream",
     "text": [
      "Train on 25000 samples, validate on 25000 samples\n",
      "Epoch 1/2\n",
      "25000/25000 [==============================] - 11s - loss: 0.2556 - acc: 0.8949 - val_loss: 0.2534 - val_acc: 0.9024\n",
      "Epoch 2/2\n",
      "25000/25000 [==============================] - 11s - loss: 0.2360 - acc: 0.9057 - val_loss: 0.2577 - val_acc: 0.9036\n"
     ]
    },
    {
     "data": {
      "text/plain": [
       "<keras.callbacks.History at 0x7f55b74de110>"
      ]
     },
     "execution_count": 180,
     "metadata": {},
     "output_type": "execute_result"
    }
   ],
   "source": [
    "model.fit(trn, labels_train, validation_data=(test, labels_test), nb_epoch=2, batch_size=64)"
   ]
  },
  {
   "cell_type": "markdown",
   "metadata": {
    "deletable": true,
    "editable": true,
    "hidden": true
   },
   "source": [
    "This more complex architecture has given us another boost in accuracy."
   ]
  },
  {
   "cell_type": "markdown",
   "metadata": {
    "deletable": true,
    "editable": true,
    "heading_collapsed": true
   },
   "source": [
    "## LSTM"
   ]
  },
  {
   "cell_type": "markdown",
   "metadata": {
    "deletable": true,
    "editable": true,
    "hidden": true
   },
   "source": [
    "We haven't covered this bit yet!"
   ]
  },
  {
   "cell_type": "code",
   "execution_count": 79,
   "metadata": {
    "collapsed": false,
    "deletable": true,
    "editable": true,
    "hidden": true,
    "scrolled": true
   },
   "outputs": [
    {
     "name": "stdout",
     "output_type": "stream",
     "text": [
      "____________________________________________________________________________________________________\n",
      "Layer (type)                     Output Shape          Param #     Connected to                     \n",
      "====================================================================================================\n",
      "embedding_13 (Embedding)         (None, 500, 32)       160064      embedding_input_13[0][0]         \n",
      "____________________________________________________________________________________________________\n",
      "lstm_13 (LSTM)                   (None, 100)           53200       embedding_13[0][0]               \n",
      "____________________________________________________________________________________________________\n",
      "dense_18 (Dense)                 (None, 1)             101         lstm_13[0][0]                    \n",
      "====================================================================================================\n",
      "Total params: 213365\n",
      "____________________________________________________________________________________________________\n"
     ]
    }
   ],
   "source": [
    "model = Sequential([\n",
    "    Embedding(vocab_size, 32, input_length=seq_len, mask_zero=True,\n",
    "              W_regularizer=l2(1e-6), dropout=0.2),\n",
    "    LSTM(100, consume_less='gpu'),\n",
    "    Dense(1, activation='sigmoid')])\n",
    "model.compile(loss='binary_crossentropy', optimizer='adam', metrics=['accuracy'])\n",
    "model.summary()"
   ]
  },
  {
   "cell_type": "code",
   "execution_count": 80,
   "metadata": {
    "collapsed": false,
    "deletable": true,
    "editable": true,
    "hidden": true,
    "scrolled": false
   },
   "outputs": [
    {
     "name": "stdout",
     "output_type": "stream",
     "text": [
      "Train on 25000 samples, validate on 25000 samples\n",
      "Epoch 1/5\n",
      "25000/25000 [==============================] - 100s - loss: 0.5007 - acc: 0.7446 - val_loss: 0.3475 - val_acc: 0.8531\n",
      "Epoch 2/5\n",
      "25000/25000 [==============================] - 100s - loss: 0.3524 - acc: 0.8507 - val_loss: 0.3602 - val_acc: 0.8453\n",
      "Epoch 3/5\n",
      "25000/25000 [==============================] - 99s - loss: 0.3750 - acc: 0.8342 - val_loss: 0.4758 - val_acc: 0.7710\n",
      "Epoch 4/5\n",
      "25000/25000 [==============================] - 99s - loss: 0.3238 - acc: 0.8652 - val_loss: 0.3094 - val_acc: 0.8725\n",
      "Epoch 5/5\n",
      "25000/25000 [==============================] - 99s - loss: 0.2681 - acc: 0.8920 - val_loss: 0.3018 - val_acc: 0.8776\n"
     ]
    },
    {
     "data": {
      "text/plain": [
       "<keras.callbacks.History at 0x7f9a16b12c50>"
      ]
     },
     "execution_count": 80,
     "metadata": {},
     "output_type": "execute_result"
    }
   ],
   "source": [
    "model.fit(trn, labels_train, validation_data=(test, labels_test), nb_epoch=5, batch_size=64)"
   ]
  },
  {
   "cell_type": "code",
   "execution_count": null,
   "metadata": {
    "collapsed": true,
    "deletable": true,
    "editable": true,
    "hidden": true
   },
   "outputs": [],
   "source": []
  }
 ],
 "metadata": {
  "anaconda-cloud": {},
  "kernelspec": {
   "display_name": "Python [conda root]",
   "language": "python",
   "name": "conda-root-py"
  },
  "language_info": {
   "codemirror_mode": {
    "name": "ipython",
    "version": 3
   },
   "file_extension": ".py",
   "mimetype": "text/x-python",
   "name": "python",
   "nbconvert_exporter": "python",
   "pygments_lexer": "ipython3",
   "version": "3.5.3"
  }
 },
 "nbformat": 4,
 "nbformat_minor": 0
}
