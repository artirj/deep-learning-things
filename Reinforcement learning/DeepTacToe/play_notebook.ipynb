{
 "cells": [
  {
   "cell_type": "code",
   "execution_count": 94,
   "metadata": {
    "collapsed": false,
    "scrolled": false
   },
   "outputs": [
    {
     "name": "stdout",
     "output_type": "stream",
     "text": [
      "The autoreload extension is already loaded. To reload it, use:\n",
      "  %reload_ext autoreload\n"
     ]
    },
    {
     "data": {
      "text/plain": [
       "<matplotlib.axes._subplots.AxesSubplot at 0x7f9d10caee10>"
      ]
     },
     "execution_count": 94,
     "metadata": {},
     "output_type": "execute_result"
    },
    {
     "data": {
      "image/png": "[encoded data removed]",
      "text/plain": [
       "<matplotlib.figure.Figure at 0x7f9d10d36198>"
      ]
     },
     "metadata": {},
     "output_type": "display_data"
    }
   ],
   "source": [
    "%load_ext autoreload\n",
    "%autoreload 2\n",
    "import deeptactoe\n",
    "import numpy as np\n",
    "from deeptactoe import game as g\n",
    "from pprint import pprint as pp\n",
    "import matplotlib.pyplot as plt\n",
    "import seaborn as sns\n",
    "%matplotlib inline\n",
    "\n",
    "board=g.Board()\n",
    "player1=g.Player(board,1)\n",
    "player1.load_Q()\n",
    "player2=g.Player(board,2,beh='random')\n",
    "board.start_game()\n",
    "wins=[]\n",
    "n_ep=20000\n",
    "for episode in range(n_ep):\n",
    "\tboard.clear()\n",
    "\tfor i in range(6):\n",
    "\t\taction=player1.move()\t\t\n",
    "\t\tplayer1.update_Q(action)\n",
    "\t\tplayer1.update_epsilon(episode)\n",
    "\t\tboard.update(action,1)\t\n",
    "\t\tif(board.get_condition()<4): break\t\n",
    "\t\taction=player2.move()\n",
    "\t\tboard.update(action,2)\t\t\n",
    "\t\tif(board.get_condition()<4): break\n",
    "\tif(episode%10==0):\n",
    "\t\twins.append(g.run_trial(player1,1))\n",
    "player1.save_Q()\n",
    "\n",
    "\n",
    "sns.regplot(np.arange(0,n_ep,10),np.array(wins),lowess=True)\n"
   ]
  },
  {
   "cell_type": "code",
   "execution_count": 95,
   "metadata": {
    "collapsed": false
   },
   "outputs": [
    {
     "name": "stdout",
     "output_type": "stream",
     "text": [
      "24075\n"
     ]
    },
    {
     "data": {
      "text/plain": [
       "array([ 0.,  0.,  0.,  0.,  0.,  0.,  0.,  0.,  0.])"
      ]
     },
     "execution_count": 95,
     "metadata": {},
     "output_type": "execute_result"
    }
   ],
   "source": [
    "print(len(player1.Q))\n",
    "board.clear()\n",
    "player1.eval_board()\n"
   ]
  },
  {
   "cell_type": "code",
   "execution_count": 17,
   "metadata": {
    "collapsed": false
   },
   "outputs": [],
   "source": [
    "board.clear()"
   ]
  },
  {
   "cell_type": "code",
   "execution_count": 26,
   "metadata": {
    "collapsed": false
   },
   "outputs": [
    {
     "name": "stdout",
     "output_type": "stream",
     "text": [
      "State([[2, 2, 1],\n",
      "       [1, 1, 2],\n",
      "       [2, 1, 1]])\n"
     ]
    }
   ],
   "source": [
    "board.update(player1.move(),1)\n",
    "board.show()"
   ]
  },
  {
   "cell_type": "code",
   "execution_count": 25,
   "metadata": {
    "collapsed": false
   },
   "outputs": [
    {
     "name": "stdout",
     "output_type": "stream",
     "text": [
      "State([[2, 2, 1],\n",
      "       [0, 1, 2],\n",
      "       [2, 1, 1]])\n"
     ]
    }
   ],
   "source": [
    "board.update(1,2)\n",
    "board.show()"
   ]
  },
  {
   "cell_type": "code",
   "execution_count": 104,
   "metadata": {
    "collapsed": false
   },
   "outputs": [],
   "source": [
    "move=0"
   ]
  },
  {
   "cell_type": "code",
   "execution_count": 106,
   "metadata": {
    "collapsed": false
   },
   "outputs": [
    {
     "data": {
      "text/plain": [
       "array([0, 1, 2, 3, 4, 5, 6, 7, 8])"
      ]
     },
     "execution_count": 106,
     "metadata": {},
     "output_type": "execute_result"
    }
   ],
   "source": [
    "board.get_empty()"
   ]
  }
 ],
 "metadata": {
  "kernelspec": {
   "display_name": "Python [conda root]",
   "language": "python",
   "name": "conda-root-py"
  },
  "language_info": {
   "codemirror_mode": {
    "name": "ipython",
    "version": 3
   },
   "file_extension": ".py",
   "mimetype": "text/x-python",
   "name": "python",
   "nbconvert_exporter": "python",
   "pygments_lexer": "ipython3",
   "version": "3.5.2"
  }
 },
 "nbformat": 4,
 "nbformat_minor": 2
}
